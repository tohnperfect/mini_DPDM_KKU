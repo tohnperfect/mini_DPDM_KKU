{
  "nbformat": 4,
  "nbformat_minor": 0,
  "metadata": {
    "colab": {
      "name": "Data Preprocessing with Pandas.ipynb",
      "provenance": [],
      "authorship_tag": "ABX9TyOL6gEE/5eNZoS5x0GK2j92",
      "include_colab_link": true
    },
    "kernelspec": {
      "name": "python3",
      "display_name": "Python 3"
    }
  },
  "cells": [
    {
      "cell_type": "markdown",
      "metadata": {
        "id": "view-in-github",
        "colab_type": "text"
      },
      "source": [
        "<a href=\"https://colab.research.google.com/github/tohnperfect/mini_DPDM_KKU/blob/main/Data_Preprocessing_with_Pandas.ipynb\" target=\"_parent\"><img src=\"https://colab.research.google.com/assets/colab-badge.svg\" alt=\"Open In Colab\"/></a>"
      ]
    },
    {
      "cell_type": "markdown",
      "metadata": {
        "id": "yVxmW6GwE0oh"
      },
      "source": [
        "Overview\n",
        "\n",
        "*   Package loading\n",
        "*   Connect with Google Drive\n",
        "*   Load Data\n",
        "*   Basic Data \n",
        "*   Data Preparation\n",
        "    *   Handling Missing Data\n",
        "    *   Remove Outlier\n",
        "    *   Remove Correlate Data\n",
        "    *   Data Integration\n",
        "    *   GroupBy\n",
        "\n",
        "\n",
        "\n",
        "\n"
      ]
    },
    {
      "cell_type": "code",
      "metadata": {
        "id": "OaXoexMHE0Id"
      },
      "source": [
        ""
      ],
      "execution_count": null,
      "outputs": []
    },
    {
      "cell_type": "code",
      "metadata": {
        "id": "YdTyD9-hB9uW"
      },
      "source": [
        ""
      ],
      "execution_count": null,
      "outputs": []
    }
  ]
}