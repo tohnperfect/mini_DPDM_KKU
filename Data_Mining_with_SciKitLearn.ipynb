{
  "nbformat": 4,
  "nbformat_minor": 0,
  "metadata": {
    "colab": {
      "name": "Data Mining with SciKitLearn.ipynb",
      "provenance": [],
      "authorship_tag": "ABX9TyM0+5hNj8KBgqm4xAQtrWLc",
      "include_colab_link": true
    },
    "kernelspec": {
      "name": "python3",
      "display_name": "Python 3"
    }
  },
  "cells": [
    {
      "cell_type": "markdown",
      "metadata": {
        "id": "view-in-github",
        "colab_type": "text"
      },
      "source": [
        "<a href=\"https://colab.research.google.com/github/tohnperfect/mini_DPDM_KKU/blob/main/Data_Mining_with_SciKitLearn.ipynb\" target=\"_parent\"><img src=\"https://colab.research.google.com/assets/colab-badge.svg\" alt=\"Open In Colab\"/></a>"
      ]
    },
    {
      "cell_type": "markdown",
      "metadata": {
        "id": "GqwS_AzmcBfe"
      },
      "source": [
        "Overview\n",
        "\n",
        "\n",
        "*   Classification\n",
        "    *    Spliting data\n",
        "    *    K-Nearest Neighbour\n",
        "    *    Support Vector Machine\n",
        "    *    Decision tree\n",
        "    *    Random forest\n",
        "    *    Evaluation\n",
        "    *    Cross Validation\n",
        "*   Clustering\n",
        "    *    K-mean clustering\n",
        "    *    Scatter plot\n",
        "\n"
      ]
    },
    {
      "cell_type": "code",
      "metadata": {
        "id": "KZZcaZDCb5y9"
      },
      "source": [
        ""
      ],
      "execution_count": null,
      "outputs": []
    }
  ]
}