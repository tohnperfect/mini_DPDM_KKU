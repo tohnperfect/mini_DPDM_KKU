{
  "nbformat": 4,
  "nbformat_minor": 0,
  "metadata": {
    "colab": {
      "name": "Data Mining with SciKitLearn.ipynb",
      "provenance": [],
      "authorship_tag": "ABX9TyPrTAbSefQ3tHsptgI9NZ/T",
      "include_colab_link": true
    },
    "kernelspec": {
      "name": "python3",
      "display_name": "Python 3"
    }
  },
  "cells": [
    {
      "cell_type": "markdown",
      "metadata": {
        "id": "view-in-github",
        "colab_type": "text"
      },
      "source": [
        "<a href=\"https://colab.research.google.com/github/tohnperfect/mini_DPDM_KKU/blob/main/Data_Mining_with_SciKitLearn.ipynb\" target=\"_parent\"><img src=\"https://colab.research.google.com/assets/colab-badge.svg\" alt=\"Open In Colab\"/></a>"
      ]
    },
    {
      "cell_type": "markdown",
      "metadata": {
        "id": "GqwS_AzmcBfe"
      },
      "source": [
        "Overview\n",
        "*    Scatter plot\n",
        "*    Normalization\n",
        "*    Spliting data\n",
        "*   Classification\n",
        "    *    K-Nearest Neighbours\n",
        "    *    Support Vector Machine\n",
        "    *    Decision tree\n",
        "    *    Random forests (exercise)\n",
        "    *    Evaluation\n",
        "    *    ~Cross Validation~\n",
        "*   Clustering\n",
        "    *    K-means clustering\n",
        "\n",
        "\n"
      ]
    },
    {
      "cell_type": "markdown",
      "metadata": {
        "id": "gIo3MWhVxXyx"
      },
      "source": [
        "### Load data\n",
        "https://archive.ics.uci.edu/ml/datasets/Blood+Transfusion+Service+Center"
      ]
    },
    {
      "cell_type": "markdown",
      "metadata": {
        "id": "UX8gQ02byBj9"
      },
      "source": [
        "### Import and load data from the internet"
      ]
    },
    {
      "cell_type": "code",
      "metadata": {
        "id": "KZZcaZDCb5y9"
      },
      "source": [
        "import pandas"
      ],
      "execution_count": 1,
      "outputs": []
    },
    {
      "cell_type": "code",
      "metadata": {
        "id": "DemSCCDiyIxB",
        "outputId": "2c3d2fdd-a492-44ca-dd51-dbe473dd339a",
        "colab": {
          "base_uri": "https://localhost:8080/",
          "height": 402
        }
      },
      "source": [
        "data = pandas.read_csv('transfusion.data')\n",
        "data"
      ],
      "execution_count": 2,
      "outputs": [
        {
          "output_type": "execute_result",
          "data": {
            "text/html": [
              "<div>\n",
              "<style scoped>\n",
              "    .dataframe tbody tr th:only-of-type {\n",
              "        vertical-align: middle;\n",
              "    }\n",
              "\n",
              "    .dataframe tbody tr th {\n",
              "        vertical-align: top;\n",
              "    }\n",
              "\n",
              "    .dataframe thead th {\n",
              "        text-align: right;\n",
              "    }\n",
              "</style>\n",
              "<table border=\"1\" class=\"dataframe\">\n",
              "  <thead>\n",
              "    <tr style=\"text-align: right;\">\n",
              "      <th></th>\n",
              "      <th>Recency (months)</th>\n",
              "      <th>Frequency (times)</th>\n",
              "      <th>Monetary (c.c. blood)</th>\n",
              "      <th>Time (months)</th>\n",
              "      <th>whether he/she donated blood in March 2007</th>\n",
              "    </tr>\n",
              "  </thead>\n",
              "  <tbody>\n",
              "    <tr>\n",
              "      <th>0</th>\n",
              "      <td>2</td>\n",
              "      <td>50</td>\n",
              "      <td>12500</td>\n",
              "      <td>98</td>\n",
              "      <td>1</td>\n",
              "    </tr>\n",
              "    <tr>\n",
              "      <th>1</th>\n",
              "      <td>0</td>\n",
              "      <td>13</td>\n",
              "      <td>3250</td>\n",
              "      <td>28</td>\n",
              "      <td>1</td>\n",
              "    </tr>\n",
              "    <tr>\n",
              "      <th>2</th>\n",
              "      <td>1</td>\n",
              "      <td>16</td>\n",
              "      <td>4000</td>\n",
              "      <td>35</td>\n",
              "      <td>1</td>\n",
              "    </tr>\n",
              "    <tr>\n",
              "      <th>3</th>\n",
              "      <td>2</td>\n",
              "      <td>20</td>\n",
              "      <td>5000</td>\n",
              "      <td>45</td>\n",
              "      <td>1</td>\n",
              "    </tr>\n",
              "    <tr>\n",
              "      <th>4</th>\n",
              "      <td>1</td>\n",
              "      <td>24</td>\n",
              "      <td>6000</td>\n",
              "      <td>77</td>\n",
              "      <td>0</td>\n",
              "    </tr>\n",
              "    <tr>\n",
              "      <th>...</th>\n",
              "      <td>...</td>\n",
              "      <td>...</td>\n",
              "      <td>...</td>\n",
              "      <td>...</td>\n",
              "      <td>...</td>\n",
              "    </tr>\n",
              "    <tr>\n",
              "      <th>743</th>\n",
              "      <td>23</td>\n",
              "      <td>2</td>\n",
              "      <td>500</td>\n",
              "      <td>38</td>\n",
              "      <td>0</td>\n",
              "    </tr>\n",
              "    <tr>\n",
              "      <th>744</th>\n",
              "      <td>21</td>\n",
              "      <td>2</td>\n",
              "      <td>500</td>\n",
              "      <td>52</td>\n",
              "      <td>0</td>\n",
              "    </tr>\n",
              "    <tr>\n",
              "      <th>745</th>\n",
              "      <td>23</td>\n",
              "      <td>3</td>\n",
              "      <td>750</td>\n",
              "      <td>62</td>\n",
              "      <td>0</td>\n",
              "    </tr>\n",
              "    <tr>\n",
              "      <th>746</th>\n",
              "      <td>39</td>\n",
              "      <td>1</td>\n",
              "      <td>250</td>\n",
              "      <td>39</td>\n",
              "      <td>0</td>\n",
              "    </tr>\n",
              "    <tr>\n",
              "      <th>747</th>\n",
              "      <td>72</td>\n",
              "      <td>1</td>\n",
              "      <td>250</td>\n",
              "      <td>72</td>\n",
              "      <td>0</td>\n",
              "    </tr>\n",
              "  </tbody>\n",
              "</table>\n",
              "<p>748 rows × 5 columns</p>\n",
              "</div>"
            ],
            "text/plain": [
              "     Recency (months)  ...  whether he/she donated blood in March 2007\n",
              "0                   2  ...                                           1\n",
              "1                   0  ...                                           1\n",
              "2                   1  ...                                           1\n",
              "3                   2  ...                                           1\n",
              "4                   1  ...                                           0\n",
              "..                ...  ...                                         ...\n",
              "743                23  ...                                           0\n",
              "744                21  ...                                           0\n",
              "745                23  ...                                           0\n",
              "746                39  ...                                           0\n",
              "747                72  ...                                           0\n",
              "\n",
              "[748 rows x 5 columns]"
            ]
          },
          "metadata": {
            "tags": []
          },
          "execution_count": 2
        }
      ]
    },
    {
      "cell_type": "markdown",
      "metadata": {
        "id": "0qQfcQ0o3sJU"
      },
      "source": [
        "# Scatter plot\n",
        "https://matplotlib.org/3.3.2/api/_as_gen/matplotlib.pyplot.scatter.html\n",
        "![Capture000.PNG](data:image/png;base64,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)"
      ]
    },
    {
      "cell_type": "code",
      "metadata": {
        "id": "ilmBL7-d3rDR"
      },
      "source": [
        "from matplotlib import pyplot as plt"
      ],
      "execution_count": 3,
      "outputs": []
    },
    {
      "cell_type": "code",
      "metadata": {
        "id": "0m8Jgy-k4MT3",
        "outputId": "e8eeefcd-470d-42fe-a2c1-b96b12a8311f",
        "colab": {
          "base_uri": "https://localhost:8080/",
          "height": 282
        }
      },
      "source": [
        "plt.scatter(data['Recency (months)'],data['Frequency (times)'])"
      ],
      "execution_count": 4,
      "outputs": [
        {
          "output_type": "execute_result",
          "data": {
            "text/plain": [
              "<matplotlib.collections.PathCollection at 0x7f3beb3820f0>"
            ]
          },
          "metadata": {
            "tags": []
          },
          "execution_count": 4
        },
        {
          "output_type": "display_data",
          "data": {
            "image/png": "[encoded data removed]",
            "text/plain": [
              "<Figure size 432x288 with 1 Axes>"
            ]
          },
          "metadata": {
            "tags": [],
            "needs_background": "light"
          }
        }
      ]
    },
    {
      "cell_type": "code",
      "metadata": {
        "id": "ms3AJNnS7iQ7"
      },
      "source": [
        "zero = data[data['whether he/she donated blood in March 2007']==0]\n",
        "one = data[data['whether he/she donated blood in March 2007']==1]"
      ],
      "execution_count": 5,
      "outputs": []
    },
    {
      "cell_type": "code",
      "metadata": {
        "id": "o3NaBc6j8Ive",
        "outputId": "dad5e616-51cd-4643-c922-9f93658a830a",
        "colab": {
          "base_uri": "https://localhost:8080/",
          "height": 282
        }
      },
      "source": [
        "plt.scatter(zero['Recency (months)'],zero['Frequency (times)'],c='c')\n",
        "plt.scatter(one['Recency (months)'],one['Frequency (times)'],c='r')"
      ],
      "execution_count": 6,
      "outputs": [
        {
          "output_type": "execute_result",
          "data": {
            "text/plain": [
              "<matplotlib.collections.PathCollection at 0x7f3be9c52710>"
            ]
          },
          "metadata": {
            "tags": []
          },
          "execution_count": 6
        },
        {
          "output_type": "display_data",
          "data": {
            "image/png": "[encoded data removed]",
            "text/plain": [
              "<Figure size 432x288 with 1 Axes>"
            ]
          },
          "metadata": {
            "tags": [],
            "needs_background": "light"
          }
        }
      ]
    },
    {
      "cell_type": "code",
      "metadata": {
        "id": "w8ykMgKdTvw_",
        "outputId": "c21b0ca3-bb58-4a73-eb14-240c7b6e8466",
        "colab": {
          "base_uri": "https://localhost:8080/",
          "height": 282
        }
      },
      "source": [
        "plt.scatter(zero['Recency (months)'],zero['Monetary (c.c. blood)'],c='c')\n",
        "plt.scatter(one['Recency (months)'],one['Monetary (c.c. blood)'],c='r')"
      ],
      "execution_count": 7,
      "outputs": [
        {
          "output_type": "execute_result",
          "data": {
            "text/plain": [
              "<matplotlib.collections.PathCollection at 0x7f3be9bbfcf8>"
            ]
          },
          "metadata": {
            "tags": []
          },
          "execution_count": 7
        },
        {
          "output_type": "display_data",
          "data": {
            "image/png": "[encoded data removed]",
            "text/plain": [
              "<Figure size 432x288 with 1 Axes>"
            ]
          },
          "metadata": {
            "tags": [],
            "needs_background": "light"
          }
        }
      ]
    },
    {
      "cell_type": "markdown",
      "metadata": {
        "id": "0p_bGKRTLq1V"
      },
      "source": [
        "# Normalization"
      ]
    },
    {
      "cell_type": "code",
      "metadata": {
        "id": "l0IvBFAFNgNQ"
      },
      "source": [
        "from scipy.stats import zscore"
      ],
      "execution_count": 8,
      "outputs": []
    },
    {
      "cell_type": "code",
      "metadata": {
        "id": "0iW9JDLcNhr0"
      },
      "source": [
        "data_z = data.apply(zscore)"
      ],
      "execution_count": 9,
      "outputs": []
    },
    {
      "cell_type": "markdown",
      "metadata": {
        "id": "ftbg6bRY0NkA"
      },
      "source": [
        "# Splitting Data"
      ]
    },
    {
      "cell_type": "code",
      "metadata": {
        "id": "Z7oWrPSB0aD-"
      },
      "source": [
        "X = data_z.iloc[:,:-1]\n",
        "y = data.iloc[:,-1]"
      ],
      "execution_count": 10,
      "outputs": []
    },
    {
      "cell_type": "code",
      "metadata": {
        "id": "Kj5nrnusyVUQ"
      },
      "source": [
        "from sklearn.model_selection import train_test_split\n",
        "X_train, X_test, y_train, y_test = train_test_split(X, y, test_size=0.2)"
      ],
      "execution_count": 11,
      "outputs": []
    },
    {
      "cell_type": "code",
      "metadata": {
        "id": "EwQ8KHL80uUm",
        "outputId": "fe320c8a-3513-4190-c510-67f781022a38",
        "colab": {
          "base_uri": "https://localhost:8080/",
          "height": 402
        }
      },
      "source": [
        "X_train"
      ],
      "execution_count": 12,
      "outputs": [
        {
          "output_type": "execute_result",
          "data": {
            "text/html": [
              "<div>\n",
              "<style scoped>\n",
              "    .dataframe tbody tr th:only-of-type {\n",
              "        vertical-align: middle;\n",
              "    }\n",
              "\n",
              "    .dataframe tbody tr th {\n",
              "        vertical-align: top;\n",
              "    }\n",
              "\n",
              "    .dataframe thead th {\n",
              "        text-align: right;\n",
              "    }\n",
              "</style>\n",
              "<table border=\"1\" class=\"dataframe\">\n",
              "  <thead>\n",
              "    <tr style=\"text-align: right;\">\n",
              "      <th></th>\n",
              "      <th>Recency (months)</th>\n",
              "      <th>Frequency (times)</th>\n",
              "      <th>Monetary (c.c. blood)</th>\n",
              "      <th>Time (months)</th>\n",
              "    </tr>\n",
              "  </thead>\n",
              "  <tbody>\n",
              "    <tr>\n",
              "      <th>122</th>\n",
              "      <td>-0.927899</td>\n",
              "      <td>0.083164</td>\n",
              "      <td>0.083164</td>\n",
              "      <td>0.275772</td>\n",
              "    </tr>\n",
              "    <tr>\n",
              "      <th>71</th>\n",
              "      <td>-0.927899</td>\n",
              "      <td>-0.259572</td>\n",
              "      <td>-0.259572</td>\n",
              "      <td>-0.750483</td>\n",
              "    </tr>\n",
              "    <tr>\n",
              "      <th>340</th>\n",
              "      <td>0.555417</td>\n",
              "      <td>-0.259572</td>\n",
              "      <td>-0.259572</td>\n",
              "      <td>-0.175780</td>\n",
              "    </tr>\n",
              "    <tr>\n",
              "      <th>544</th>\n",
              "      <td>-1.051508</td>\n",
              "      <td>1.454106</td>\n",
              "      <td>1.454106</td>\n",
              "      <td>2.492483</td>\n",
              "    </tr>\n",
              "    <tr>\n",
              "      <th>92</th>\n",
              "      <td>-0.680679</td>\n",
              "      <td>-0.602307</td>\n",
              "      <td>-0.602307</td>\n",
              "      <td>-1.243086</td>\n",
              "    </tr>\n",
              "    <tr>\n",
              "      <th>...</th>\n",
              "      <td>...</td>\n",
              "      <td>...</td>\n",
              "      <td>...</td>\n",
              "      <td>...</td>\n",
              "    </tr>\n",
              "    <tr>\n",
              "      <th>633</th>\n",
              "      <td>0.308198</td>\n",
              "      <td>1.625474</td>\n",
              "      <td>1.625474</td>\n",
              "      <td>1.507278</td>\n",
              "    </tr>\n",
              "    <tr>\n",
              "      <th>189</th>\n",
              "      <td>-0.680679</td>\n",
              "      <td>-0.088204</td>\n",
              "      <td>-0.088204</td>\n",
              "      <td>0.029471</td>\n",
              "    </tr>\n",
              "    <tr>\n",
              "      <th>564</th>\n",
              "      <td>-0.680679</td>\n",
              "      <td>1.454106</td>\n",
              "      <td>1.454106</td>\n",
              "      <td>2.123031</td>\n",
              "    </tr>\n",
              "    <tr>\n",
              "      <th>149</th>\n",
              "      <td>-0.927899</td>\n",
              "      <td>-0.602307</td>\n",
              "      <td>-0.602307</td>\n",
              "      <td>-0.955734</td>\n",
              "    </tr>\n",
              "    <tr>\n",
              "      <th>130</th>\n",
              "      <td>-0.680679</td>\n",
              "      <td>-0.088204</td>\n",
              "      <td>-0.088204</td>\n",
              "      <td>-0.257881</td>\n",
              "    </tr>\n",
              "  </tbody>\n",
              "</table>\n",
              "<p>598 rows × 4 columns</p>\n",
              "</div>"
            ],
            "text/plain": [
              "     Recency (months)  Frequency (times)  Monetary (c.c. blood)  Time (months)\n",
              "122         -0.927899           0.083164               0.083164       0.275772\n",
              "71          -0.927899          -0.259572              -0.259572      -0.750483\n",
              "340          0.555417          -0.259572              -0.259572      -0.175780\n",
              "544         -1.051508           1.454106               1.454106       2.492483\n",
              "92          -0.680679          -0.602307              -0.602307      -1.243086\n",
              "..                ...                ...                    ...            ...\n",
              "633          0.308198           1.625474               1.625474       1.507278\n",
              "189         -0.680679          -0.088204              -0.088204       0.029471\n",
              "564         -0.680679           1.454106               1.454106       2.123031\n",
              "149         -0.927899          -0.602307              -0.602307      -0.955734\n",
              "130         -0.680679          -0.088204              -0.088204      -0.257881\n",
              "\n",
              "[598 rows x 4 columns]"
            ]
          },
          "metadata": {
            "tags": []
          },
          "execution_count": 12
        }
      ]
    },
    {
      "cell_type": "code",
      "metadata": {
        "id": "sOr35XwTAg22",
        "outputId": "fdb300ee-b9de-483d-ab61-68e28a0bb12b",
        "colab": {
          "base_uri": "https://localhost:8080/",
          "height": 218
        }
      },
      "source": [
        "y_train"
      ],
      "execution_count": 13,
      "outputs": [
        {
          "output_type": "execute_result",
          "data": {
            "text/plain": [
              "122    1\n",
              "71     0\n",
              "340    0\n",
              "544    0\n",
              "92     0\n",
              "      ..\n",
              "633    0\n",
              "189    1\n",
              "564    0\n",
              "149    0\n",
              "130    0\n",
              "Name: whether he/she donated blood in March 2007, Length: 598, dtype: int64"
            ]
          },
          "metadata": {
            "tags": []
          },
          "execution_count": 13
        }
      ]
    },
    {
      "cell_type": "markdown",
      "metadata": {
        "id": "yZypxmCyBvmh"
      },
      "source": [
        "# Classification"
      ]
    },
    {
      "cell_type": "markdown",
      "metadata": {
        "id": "c5rd9-DxAx0c"
      },
      "source": [
        "### K-Nearest Neighbours"
      ]
    },
    {
      "cell_type": "markdown",
      "metadata": {
        "id": "eh7k33vBBJfc"
      },
      "source": [
        "Import"
      ]
    },
    {
      "cell_type": "code",
      "metadata": {
        "id": "ZHG5jkgIA-gz"
      },
      "source": [
        "from sklearn.neighbors import KNeighborsClassifier"
      ],
      "execution_count": 14,
      "outputs": []
    },
    {
      "cell_type": "markdown",
      "metadata": {
        "id": "8AvT3S3dBNdO"
      },
      "source": [
        "Define"
      ]
    },
    {
      "cell_type": "code",
      "metadata": {
        "id": "gEIumIV9BAVr"
      },
      "source": [
        "neigh = KNeighborsClassifier(n_neighbors=3)"
      ],
      "execution_count": 15,
      "outputs": []
    },
    {
      "cell_type": "markdown",
      "metadata": {
        "id": "yU-Ll1taBPd8"
      },
      "source": [
        "Train (fit)"
      ]
    },
    {
      "cell_type": "code",
      "metadata": {
        "id": "4PjeOKipBLUf",
        "outputId": "84d912b5-16ed-4e1a-8ed7-a213a7a57ae9",
        "colab": {
          "base_uri": "https://localhost:8080/",
          "height": 67
        }
      },
      "source": [
        "neigh.fit(X_train, y_train)"
      ],
      "execution_count": 16,
      "outputs": [
        {
          "output_type": "execute_result",
          "data": {
            "text/plain": [
              "KNeighborsClassifier(algorithm='auto', leaf_size=30, metric='minkowski',\n",
              "                     metric_params=None, n_jobs=None, n_neighbors=3, p=2,\n",
              "                     weights='uniform')"
            ]
          },
          "metadata": {
            "tags": []
          },
          "execution_count": 16
        }
      ]
    },
    {
      "cell_type": "markdown",
      "metadata": {
        "id": "hdEJZYZBBqUE"
      },
      "source": [
        "Predict"
      ]
    },
    {
      "cell_type": "code",
      "metadata": {
        "id": "rnhhLAgaBp12"
      },
      "source": [
        "y_pred = neigh.predict(X_test)"
      ],
      "execution_count": 17,
      "outputs": []
    },
    {
      "cell_type": "code",
      "metadata": {
        "id": "jTWqLsInWufr"
      },
      "source": [
        "y_score = neigh.predict_proba(X_test)"
      ],
      "execution_count": 18,
      "outputs": []
    },
    {
      "cell_type": "markdown",
      "metadata": {
        "id": "WK3q8E9-B8pa"
      },
      "source": [
        "Evaluate"
      ]
    },
    {
      "cell_type": "code",
      "metadata": {
        "id": "KfB8fZw9B-ck"
      },
      "source": [
        "from sklearn.metrics import accuracy_score"
      ],
      "execution_count": 19,
      "outputs": []
    },
    {
      "cell_type": "code",
      "metadata": {
        "id": "Y4dI8iAvCie0",
        "outputId": "56c35349-0595-4ae2-939c-f65c978f821e",
        "colab": {
          "base_uri": "https://localhost:8080/",
          "height": 34
        }
      },
      "source": [
        "accuracy_score(y_test,y_pred)"
      ],
      "execution_count": 20,
      "outputs": [
        {
          "output_type": "execute_result",
          "data": {
            "text/plain": [
              "0.7466666666666667"
            ]
          },
          "metadata": {
            "tags": []
          },
          "execution_count": 20
        }
      ]
    },
    {
      "cell_type": "markdown",
      "metadata": {
        "id": "6v9wpprWCruo"
      },
      "source": [
        "OR"
      ]
    },
    {
      "cell_type": "code",
      "metadata": {
        "id": "VJAWtbivBdJc",
        "outputId": "3c0bba8b-dc22-4a48-9c2e-fe9345da110a",
        "colab": {
          "base_uri": "https://localhost:8080/",
          "height": 34
        }
      },
      "source": [
        "neigh.score(X_test,y_test)"
      ],
      "execution_count": 21,
      "outputs": [
        {
          "output_type": "execute_result",
          "data": {
            "text/plain": [
              "0.7466666666666667"
            ]
          },
          "metadata": {
            "tags": []
          },
          "execution_count": 21
        }
      ]
    },
    {
      "cell_type": "markdown",
      "metadata": {
        "id": "LODpswrKFUF3"
      },
      "source": [
        "### Support Vector Machine"
      ]
    },
    {
      "cell_type": "markdown",
      "metadata": {
        "id": "XOxwCXJQFgVb"
      },
      "source": [
        "Import"
      ]
    },
    {
      "cell_type": "code",
      "metadata": {
        "id": "OHQIL-rpFXRr"
      },
      "source": [
        "from sklearn.svm import SVC"
      ],
      "execution_count": 22,
      "outputs": []
    },
    {
      "cell_type": "markdown",
      "metadata": {
        "id": "L3t5X6zfFiAg"
      },
      "source": [
        "Define"
      ]
    },
    {
      "cell_type": "code",
      "metadata": {
        "id": "TnVhm6OLFlcY"
      },
      "source": [
        "svmClass = SVC()"
      ],
      "execution_count": 23,
      "outputs": []
    },
    {
      "cell_type": "markdown",
      "metadata": {
        "id": "GIAuk9arFmZN"
      },
      "source": [
        "Train"
      ]
    },
    {
      "cell_type": "code",
      "metadata": {
        "id": "kc-8uA1kGFRw",
        "outputId": "847e8071-8d4c-4d66-f179-b6810b1fbbe8",
        "colab": {
          "base_uri": "https://localhost:8080/",
          "height": 84
        }
      },
      "source": [
        "svmClass.fit(X_train, y_train)"
      ],
      "execution_count": 24,
      "outputs": [
        {
          "output_type": "execute_result",
          "data": {
            "text/plain": [
              "SVC(C=1.0, break_ties=False, cache_size=200, class_weight=None, coef0=0.0,\n",
              "    decision_function_shape='ovr', degree=3, gamma='scale', kernel='rbf',\n",
              "    max_iter=-1, probability=False, random_state=None, shrinking=True,\n",
              "    tol=0.001, verbose=False)"
            ]
          },
          "metadata": {
            "tags": []
          },
          "execution_count": 24
        }
      ]
    },
    {
      "cell_type": "markdown",
      "metadata": {
        "id": "tJjmSzKGGQVV"
      },
      "source": [
        "Predict and Evaluation"
      ]
    },
    {
      "cell_type": "code",
      "metadata": {
        "id": "WCYIaEmXGQ12",
        "outputId": "02adb5e3-ab9e-4e35-d4a5-1e748b26b202",
        "colab": {
          "base_uri": "https://localhost:8080/",
          "height": 34
        }
      },
      "source": [
        "svmClass.score(X_test,y_test)"
      ],
      "execution_count": 25,
      "outputs": [
        {
          "output_type": "execute_result",
          "data": {
            "text/plain": [
              "0.78"
            ]
          },
          "metadata": {
            "tags": []
          },
          "execution_count": 25
        }
      ]
    },
    {
      "cell_type": "markdown",
      "metadata": {
        "id": "Mn8kFNQ10--g"
      },
      "source": [
        "### Decision Tree"
      ]
    },
    {
      "cell_type": "markdown",
      "metadata": {
        "id": "Ydnq-UblDqlF"
      },
      "source": [
        "Import"
      ]
    },
    {
      "cell_type": "code",
      "metadata": {
        "id": "k09MC9z50v-m"
      },
      "source": [
        "from sklearn.tree import DecisionTreeClassifier"
      ],
      "execution_count": 26,
      "outputs": []
    },
    {
      "cell_type": "markdown",
      "metadata": {
        "id": "iT5sSqFHDq4f"
      },
      "source": [
        "Define"
      ]
    },
    {
      "cell_type": "code",
      "metadata": {
        "id": "lFE2Ql2g1Tx4"
      },
      "source": [
        "tree = DecisionTreeClassifier()"
      ],
      "execution_count": 27,
      "outputs": []
    },
    {
      "cell_type": "markdown",
      "metadata": {
        "id": "F8rY9GmYDrYy"
      },
      "source": [
        "Train"
      ]
    },
    {
      "cell_type": "code",
      "metadata": {
        "id": "k4Ieu9pT15MV",
        "outputId": "d2e6dfe9-7e63-49eb-f03f-654897dcdb9f",
        "colab": {
          "base_uri": "https://localhost:8080/",
          "height": 118
        }
      },
      "source": [
        "tree.fit(X_train, y_train)"
      ],
      "execution_count": 28,
      "outputs": [
        {
          "output_type": "execute_result",
          "data": {
            "text/plain": [
              "DecisionTreeClassifier(ccp_alpha=0.0, class_weight=None, criterion='gini',\n",
              "                       max_depth=None, max_features=None, max_leaf_nodes=None,\n",
              "                       min_impurity_decrease=0.0, min_impurity_split=None,\n",
              "                       min_samples_leaf=1, min_samples_split=2,\n",
              "                       min_weight_fraction_leaf=0.0, presort='deprecated',\n",
              "                       random_state=None, splitter='best')"
            ]
          },
          "metadata": {
            "tags": []
          },
          "execution_count": 28
        }
      ]
    },
    {
      "cell_type": "markdown",
      "metadata": {
        "id": "91j2lovTDski"
      },
      "source": [
        "Predict and Evaluate"
      ]
    },
    {
      "cell_type": "code",
      "metadata": {
        "id": "29Zyo-cA17dU",
        "outputId": "ad9d28d4-41f7-48b0-b893-65546e0ae32d",
        "colab": {
          "base_uri": "https://localhost:8080/",
          "height": 34
        }
      },
      "source": [
        "tree.score(X_test,y_test)"
      ],
      "execution_count": 29,
      "outputs": [
        {
          "output_type": "execute_result",
          "data": {
            "text/plain": [
              "0.7333333333333333"
            ]
          },
          "metadata": {
            "tags": []
          },
          "execution_count": 29
        }
      ]
    },
    {
      "cell_type": "markdown",
      "metadata": {
        "id": "FxRyouTQE9-h"
      },
      "source": [
        "### Random Forests (Exercise)"
      ]
    },
    {
      "cell_type": "code",
      "metadata": {
        "id": "AFVuDt7FE7Y0"
      },
      "source": [
        "from sklearn.ensemble import RandomForestClassifier"
      ],
      "execution_count": 30,
      "outputs": []
    },
    {
      "cell_type": "markdown",
      "metadata": {
        "id": "HunbwhLLG0Ww"
      },
      "source": [
        "### Evaluation\n",
        "https://scikit-learn.org/stable/modules/classes.html#sklearn-metrics-metrics"
      ]
    },
    {
      "cell_type": "code",
      "metadata": {
        "id": "s7lx-zKm2LFP"
      },
      "source": [
        "from sklearn.metrics import accuracy_score, confusion_matrix, recall_score, precision_score, precision_recall_curve"
      ],
      "execution_count": 31,
      "outputs": []
    },
    {
      "cell_type": "markdown",
      "metadata": {
        "id": "xm0cnZvJDePP"
      },
      "source": [
        "![Confusion Mat.png](data:image/png;base64,iVBORw0KGgoAAAANSUhEUgAAAUwAAAEgCAIAAABQOt0pAAB1VElEQVR42uydB3gURR/GZ3evtySX3jvpgSSQ0DtI7yAoAqIfIlKkqQgoWCkqooAiCiJVegmdBJJQUkjvvd9d7nKXS67ftu+5hBJQARFU4vy+7/Ehe7O7s+/OO21n/8ugaRpAIJCOCwolgECgySEQCDQ5BAKBJodAINDkEAgEmhwCgfxJGFCCfxyapmjq955kInd4FielqNaz0hRAMRTFUKRtK0mQFIpiGPb3VP+/n40nPAYAqOUQsOGCJv+3Wdwsl0ikMiX5218wFGVyhCIbGxtrEY/NQpGneNKG+rraOqkeN2j4rp7ePmFiNqAJQ31VcWmNVOga4O/jbcVEHsdflsroSX11XzZcPLx9w8XsP30QvEVWX1tb32Q2Uai7t4+XhzMTlqoHmxHIP4q5et3auW6uzrYCHstS63JEYgc3d3cPd3dXZ0cxj2vv12vs+oPny+U6gnqKJ9348VwHawEHA8yh8zckyywbjRUn3hjtBwAQjn13R1bLYxyGUFUUS6oqdPgTZ+OLT+5kY8i8dTdlT3IQWcKmpcPsBHwWAJ3mrDpQb4Jl6gFg1+afhumyYPmG/Ftnd4zt0QkAYDdo8vrjV7JzsnOyshNO7JrUz6vm1sl3py75bNPZOt1TW5zIdFu0+IMzq0YMtgYcDGNjmGWjTlnE1NUxgECnwyUG3WM0EPrEHXN/2nggR/3E2Vj49odnV48cag3Ylmw8UWm07zn/vS93jusVCAADs/wfAife/nUjJh5XKLK3sebwOAAADsdJJHS2sba2Ftv6dx+zbvkL0yIAAAWH829dLmt5evedyRfbWztbte/ZijuN7d/15a5enlO6BQ33tH+kxYmWqltK3xKEw/gr2bCxs3ayYv2VS2EwbKysBCIOLEpwTP58oAO0EdxrsQ0a0qi13KeWenmtvNpk9jXpjGaCQFhcLothbm4ykDRHaM3n8VkMyxCaxE0GvbZZo8cJwGBzhVYCPofDuF2VU4TZqNcb9EYTBTAuQ2cykdQ9z5JGhuvAd9b3W0ahLDafj94dduMmg1bXrNObCRpjcblCvojDAGZ9Y9b5LenJB0wx76iblEoEZXO5PB6nbbfHyYbBaCLbsmEmyMebYMNNBp2uRas33cmJgNt2WBKg9x+CJs1Gg07brDNYcoBxuQIen8dhszGk9UfcrNeqNTqDmcBYbA6DwWBz2QIBD6NIk1GnUWv0ZhwwMQ6TxWCxOXwrHhOBJoc8RUgEkHdKNWAJAUtk+beVm72Xg3NN6unjxy9klFWwOvXpF+6fs/2Tq7Xm6FeWzp7+UkygLaFXlmcmnTl+Zv/5m3Vypn1g1zEvDZ46fESQm4iF4DpFbV5q/JmEmymF1TRqEx4SXJNbobl7WkKecvbkydjk+sZ6q+ihL70yv783F1BmrbQ6PencoXP749Iq5Borr/CwcWMWDg3nVSWs+3JrbEYdjcqOmZqkYa723YcOHDO0vw2DNuuVFa3Z2NeWjYCo0S8NnjZi5N1s5KdZspFcYMlGWHBwXfts/BEUrpNW3Uo6f9iSk/IGjZVneOi40a9MHP5CiCf/txNNjcW3zp/8ef/ehFyJRODBDYka13/IyKEDBvk6ClBcVZZ+6ezJn47HFVZIbQM6BQpE9j1GDn1t1ihefXFCXOyvu0+nlBQhPu5BdjbWwT3Hznh3bLAATrxB/ipEVfxro7sCAGxeeOvrSwX19TWSurrynKQf3h0Z4sThiXxnfrgnT2ksTz7y6ezO3q1daTbfz9beX8BnANBl0ce/yvX1ibtm9vfm8IXdF3wYm52ePHfSGA6HP/CNDdfqTMb6tB0vDvMAIm7M9EW/XElJODN7TF82FwAgHL5oc5qCpnHprTPb5oYH2jOA/fjlP2eraZoy1Fz/dtJAR2DN7Tdr+ZHUk7Pe6mfp3w94e8GPJw5+8mJoZyvADOo1eMWnG7/e/svVnGITRZOm+qSfXx3gw+ELo+evPp2dnjxvylgOhz9gzvqkOpNRcuvHqcM9gYgb/fLCX66kJJ55bWw/jiUbgmELNqXK/0geylB7Y+vkwZac9J259HDKydfmD7DkpO/yj+M1NE1UJ8wbHw1A8JurDstMNG2s/mnxDEeAIiETl+2+fuPYkolRPCbweHHpT0VqWp66ds4QtMfkGSfSyiS1+Ze2zRnoFf7mqp0Nmpr9i2d5s/vOWneiuFpWnHr6tVHdnCYt/i6r6TkvXLAl/5fRFLfji5Jfj7q586hGqRyXaxmYQ7eZry9cMnW8nxgDMRNfJ3IryrJ/UrAGzI7+YNaos1vW/XTBWSzy0edv3bdv99VKv9dXzl+2fIQbF9nw0TSkJfO7hJRuL2TrG3buOnuhzm/syneXvD8+ggNAsDiXR6RsOXu3T+cUNWI2LSmv/KAow9LBQwHdkrZv/5FzV+WhY95ZuvCD0RFG18RrapeSVJaVn1v/iYMV6UUJeeW+3UZNemNRpO3tw6hyvtu3b9eVCt/ZKxYse3ekOxdZt2Ya0pyxNSHlVEq2sfHnXbHna/3GrHhnyaqJkZZs2ORxieQtZx7eErXc2nfg8Nl4ecjoZUsWrhkbaXS/dkPlUpTC4Qgo4rfTkQgTE4qt7Kzde0V0j+na1dtzaqqmKGNHXFn+C1XqHjJDYx2XaeuIkBQBxF1GTI0s6ISIuKimMaFBUmnP68NBCNIs8ug9d9pkcz1biqFwTA55qhOhrj0Gz58/p68PgyYBoDhCgYuru1goQu6NNgmKBIARFuj6UkDnoSEb+77xKVNkIyjZs7cqDwCAaVXq6uLCZhQgBhGb48sqytWn5FxTKdI1tPuQ4BC/Tm0zVFybGCMnHICi9mbCUZpA7uTEWJ9fJ8vTUe5BYV18g3gAcDq/tuzbka8Y+Q52jlakFDG1ji4o0G5kr6/M0t3JRlN1cWGLJRtCNsePVZxnSM6+1iK/paXdQ4NC/e9lw8TpDEDBw1QxygrqpLk6yi0otItfsCUn4bOXfDPiZSPP3s7R+u7w5i4sp4lvzQ8a0LcJF/CVqTfqFBKDHBNaijsNuNZisbMDFXt449iDP1o7ePUa0WX4sPGDevUXi+SdnZx4igO/vH3hlzX2jl2iJ/br+tLIodH+fGhyyFMEAWxnd9/g6K7BD30UhAEfD3aAMx9jsm1dW8fsRkKHkhbX1Z7Z/9n1M1/cbX5cvDzFDG2dsd4EgAEAc7uxP/qw+S6MamnMlUuUAGAkYSYtSVGutYObtUPb76b2mabNeh1OAyaXQejbslF37uC6m+e+apcNLzFTJ7mTjXt7kwAjHjVL0dyYp2jNCUGYSeLBnPw2vVFVX5oZd3jLwUu5Ug3PN1Bo0piK9KBVKMIxfMLECVVV8mO3lGazqeTy/twzP1+bvnz1mlXTxkyfmFtTfiSplMbNutRLPyTGnkyo++TjD2f0dkOf65YD8i9xN2hrQhGMRMDDH4i3rnPlYIDdriJA+U4o19JnDn592Y6siso2KkoLU2+eWDBvUCTDXQwAh6aY9N1ml2o7D3J/LtqOjyAkauUa6uBlY7E7jtA4fWcCTKNUNamacYpuzTKN0jRCm/NP/3rg0L7sRoTvhPLEAICg2Ut+uD8bxxe+NTgS8xADwKYp1r1lvDQA1APZeLC+sXINcfC2AQClcYS+0z2ncY1K1aRqwSnLzkg7GWU3Nq9fNvn974vsesw7kpiWGJ/9w5tTBtq3LROmFPVqtPPLHx26fObQj5s+XTi8b6BQUHq+OOF6XqnCKJq6fEvixdO7tm5eMmN0hLtAdeNGyqWbCuI57x5C/mEoksBxnDSDNvshJEUazDhOtOsEt0tLW/6HAECbKcJIUuQdr7Bc/R19/PlsRmVZfWG5VEeQNImTkqyTc1799MNd5VYOzu4cRoNKJlHKTARFkWSzSqHXN1s8RhlJAqcoiiRI2kyhFMBokiLNFFPkYWfvyeVIs3KvZ2UoTDhFEUZJ1ncLV3z2yXcVzRSDopjAJGnRyFrwlryM61k1mQrMtZOjTwCfzagqlxSUSbS3s5F9au5rn3yws0zk6OTBYcibGurvZqNJoTc0ty7gN5Ik/nsXDQBb6G5n78XlyLLyrmel38lJ9vZF73/60c+laookzVRrTUECggSa+mKdpAQBoqjo7qNifB2Aqb5BLVEaAZvGEVxffGDf2uXr96RrA3qMfmXep4d2/TBpWF8aSBDVtb2bF320/ZRCFPzC5Fc+3Lpn2+fz+vswUISBPt8h0rA1a9ZAn/2jjze08sKc7Os3biRcT66SaRlNRmeWAFhzmVyOnZB/f/tGNNbmpVw6dvFaeY2Jb++IODvYCa3sea1PyLlOodY4IStMu5JY2tgMnN1tlIUJ73y6M452GjVj6iuDbKuqK7OTzqjVuNDZG1Fmf7Nq6y8X0whAMYWovbufm51QU5F9+URsYm5dpZnH9nSK9g0PDeJW15Xn5iQUVMtIvqsTaIjb8u3hc40ho14eOsDHlJdTkJZxw8zDeEhTdipqFzpqWA8vzxBrgmywZKNMoaad3cVNRYnvfbbzEuE4wpINu+raiqyks+oms9DZG1XmfLt6y+4LaQSgW7Ph4+boYs39zUgF4bl5cWsl5Tk5CYVVUoLv6ow0xG/ZeuiMPGjUjH6hxtzUsyfjblRKpFwHK+/ACGtTac6tWyUNRqGNlYubdXXa1p+PHU2rNhGkXsCyQ6nMvNRjqZVy1NpbhOpKM88l3bjoGjxgbO+o9Kvxh3/NVbcwHTxEhob81FNxqQqniFGjB3V2fJ4X0iEwkOM/jbrou7XrvzyeKbSxFVs6uo2NjcbmoJfeWP76e1GuD5i84uKGjV8cSlbYisWNjY3NWI+3Vr791sRA3p2GvqUyPe7g7u1HEgobmwFAOJGDJy5Y/EbvEE8WArSS/PNH13+/N7FUSgOEF+QECNJQqqABQBhDZq5dOMt+39aNv15W2riZyRpmn+kr354/2Z+nbyiKj92w9Zf4gipLURF26fHmwsXT+8ZYs4CpISd238Zv9yRWqgCn+6hlSxe90q0TB2nNRkb8r7u3H75a0JaNiEETFiye2zvUk40ArbTgwtEN3++9WiK5kw3KUCpvzcbg11cvWTgrRPS7Oukbiq+c2bB1d1x+W04695i78O1X+nUHpZu/2LApNhuztxMoGo2dx76+7I0ZePqhz7/enVqmsIwnvPtPmzG+S0vsrt0XS9SCzh4I4WjfWEjRmsoGy4FFXUe9tHTxGz3EJas/2Hk5q5oBlLW1CssP3hEz31oyfVRfJ+7zPRSEJu+AnQPCMgCgAMpkMR98Z5QiKBzHAYqwmCwEECRJU4BiYAwEfVhbRVGUGTeTNMZiMpnY/b8QOE6iKOOB7XezQQKUxWRijEdng2Zg2MOzcS8nFMZi/faMD0C0ZgAwGPclpQiCRigEY7bmnEAZDCbGas0dZW6dXmQhBImTBGBgv8k2NDkEAoETbxAIBJocAoFAk0MgEGhyCAQCTQ6BQJNDIBBocggEAk0OgUCgySEQCDQ5BAKBJodAINDkEAg0OQQCgSaHQCDQ5BAIBJocAoH8TcCQzM81NE0Dmm4L33o/CIJAef6Uhrdjvd7TrfWHdmFkn1tJocmfZ3C9oqFR0axHH+iQMVhsoZXY2krIYcIv+T5Sw8aGRnmznkEDk5Wts6OtPatVM8qgalA2KnWAgdIIhVnZ2tnZ2TCe23oM8rwiT96wdKyDUMAFGF9o4+zq5m7BzcnB1qHf+DeO3izS4hRU6eHIUjYtm+AgEnABYPSatSau0ty2XZnx9YopDjZCPo8rtncasGLDaYX5Ob1EaPLnHeWtmTMHA+9R7x1O0bVuIE1NuUffHhsGfMcvP5Kthgo9hobpr786FkH5aMikxUeyjHcrRk3Jt2+unPfml1ky4/N8eXDi7TlHp6zDGuo4oYF+vv5tkZlRlnVwt1FOvlHleRUZFdUE1OhRaKRF/pG+417uF6lKLEu4Xqi6/YUH2qTJCIhk9x0Q4siGs+uQf2y0Ja9M1jfW9vF0D3Gxubu1RaUwq+WAzWEx2VCjR2ooKSh0smHNnd2nV4j6clZ2fL60zeXN1emdrEr9/H2f85kraPLnu3w2VWWqayvc/RydPds8TlNmveTGmQslJaro3uE9Qrzg1OojoFTZuX5apVNI5GS/4AnIjaS8C9fqTTQAVG1xvT2FdHEXAWhyyD+GVpZVLr2FerMdrOkWRUODrK48P27/qu/OnpL0+N9br7042Au25I9CXXWezS8W9bIXeQ8bHDI6qPBmYVpqqRrQjTklfiadh6/N836FsJ5/rgfkstK82iJcI4n9oajkYjdCW1FbK28RBg+fuWnThHF+jiIo0aMH5HWFfFctFjyQBVDv6MEenS8eik1NGnJzqLNVojWD7xBiy4Qmh/zDA/KqftOXfvDe4q6OTJICAGNy2Gw2fDz++APy4ooIwPHzEAMAMMfgCdHRmbHf5+VkpwUqAhwwbuCI598isLv+vA/Iy1y93UO83ewEQisLAh50+J8ckHsa1S4+4ra/RWFDYsJjrFPSL+4+1MTRu0c5d4DeEDT5cz4gz0F9nXy8HDhQjicdkHMERdaBDqzbG/j+vft0G+6ZdfWXHzMKpe6+tgCaHPKPtOGApoFeUlxYk2vu5u8d4MWFmvx5EWmKVpdlMR0asGBf1r0BrHPMCP/oHnzEP1QQFmjVEXpFcEz+HILrmlRNksyE2Jq6Ci9fCrQ0K5tFVlYCeDMf3+G4TiWvKjjz/V6V1iXIsVdjE1dsw2lr8pxDxoiCbno4eQT7enYISbE1a9bAW/6c0Zi2df3KhesPqQheFKUsuXwoCee7d+nqy4X9sseFKLu85bNVK3alM+vrGm+evUXy3COjvdhtr5lxhJ56WWc/++CIHk68DnCx8PvkEEgHB9b9EAg0OQQCgSaHQCDQ5BAIBJocAoFAk0MgEGhyCARyH3CR1J9Dp9NpNBqSJKEUjwmHwxGJREzmfS9sGo3GlpYWHMehPo8Jk8kUiUQcDgea/Jlz+PDhb775prGxEUVhJ+jRmEymwYMHv/POO2FhYe23X7ly5csvvywqKmIwYAl8NARBBAUFLV++fOjQodDkzxxHR8elS5cOGjTIyckJqvFI4uPj6+vrra2tH9ju4OAwY8aMqKiokJAQqNIjyc3NzczMtLOzg2NyCAQCTQ6BQJNDIBBocggEAk0OgUCgySEQCDQ5BAKBJodAINDkEAg0OQQCgSaHQCDQ5BAIBJocAoFAk0MgEGhyCAQCTQ6BQKDJIZD/DDAyzDOENLZoNDo9/pCvzTG4QpFAyGFCsR7GQz/YhyDIQ/ajaYqmLWn+w/G6oMmfoccbznz63qffHqvgCrksFAEmnUarM6AcgVDAY6AANxkNzW7D3vtk9Zqx4fA+/CGEUaVqatIa/sjKQms7G2sR4/csbFA3SmX18mbK3sXRw8OVBbvrkKddOvV1+sZOo6ftvHSjuLK+Oj/x44nDBILuc7/aX1pTU12Uc3b77IExIpTG4HdlH9aKN5es/XhxdLeIsJBOnYI6R0X37t27j4XevXp0jwoNiZrz0S/5Tb9fy0pu7Px8dv/BA6dt3JHUaIZjcshThzIZfeYOmDh3VKS3iAOYfB5PxGfZOfLsnPlMjGnlFDPuzb7Bo+z1zQTU6iG9cdvwzd8eKLr8zZQeAvHQWZsv3aqvr62tramvqcqM2zd1SHcC1euJ360nMb+R7361a9srA6IRmoEBaHLIU2+CWlSltli9g8P9A26UBIBq+yfLJbJZIVLm1jUbzThu0mubm5v1JpwiCdxk0Om0eoMRJ2lAW/7U67Q6gx4nqTs1CGk2aNVNKqWqSaM3EFTH7g0gYgcvtq0nB+OzUJFlfI2gFMpyCh3x2bIu0SGqXIXuj/bkC21YfCfqP10S4Vjw2RVMkf87Pc1MgS3yx2msItg5N9N+3rG/a4g3qLh0KbfWe/C8KTH2DXk3r2cUm50CBg4a39VWkZWWmpxV0MJz7d9/XK9AB5okVHX5SXGxF66XKAxIUM+o0cOndfGyZWFIx53gQND2HR6DUtJCIjwHR68+CrlBpzOSZlSvN5pJwGCxuFwu627LTRkxSn9PF4o0mwytCVEGiqIMFovNZjOQe9tphMXhcDkcBopAk0MeBdepk9/DUwg7+bnFb9u+PWHrZ8C7dzibNlQeUTDt7Rb6qa9cOHr4cvOw90UhEZP8uAC/fOBIbFPQCnFMTKCDtvDSW8vWnsMC1q1cNZy9b+OaZcszFStXvDPUT9Cxq00K0DSw/MdUf3J9Ks7ynfJll4h5ESZcr7h1Iu7M5dTCJoZtSNSIUQP6hneyZv2mcNN0S11B8qXYM7dKJYSNB4/ieEf1HTrmhUCeqrYg6cqZC0lFcgMS0D1i9IiXI707TKUJu+v/aKm1Dx30xseDx/YSocOXDv3uytpVm1eN6B0ZENR72pZV41/r6csiWRyAiEIHTl71v2H9O7Mplhng1Wd37E3Pt1/46rxXe/h6RLz7v6nz+fLMK6kFxg4uF9ask8tkZbXVJSmp+1mSsnA2CjjOgT42DUe+X/zyKb3bwq/XvUHnnpz45mdrLxaZfnsAY+nPX/7vwJX60Uu+2rVhYX9Sln0jJ9fMbimNXzhv7vRf84NfXfnFMj9t3DvLP/4yrkIHW3LI04EykrSZNyWQO9nfKbDrG4PulEeMi6L3nvnQRAtNWoqtLa4ovFqdVeUdymO3NNRU0ijDgJACSa25SqIxA05HfkyEaa8cWZt5fiOLJnGV7aBuUUNbi69RlavVFvjYvhCE2ft0XbOoH7lqjz45Xzkk1IV93/64srhU4q518bETIoDt+MLiMdczcZm24sKWvWmZNm9tmv96bz8Wtey1l7SV+7Iv38zr79+dC00OeUo42gnsxPyHJKAtfS5L55FCARvQXOLmuTPfFygjhiEmWqMh7foM6tPTid3B+2Wk9ag3vv5o1cxwXsOt7V/n0I1U6zCdaz9q6jjnSKm9O1VZUqBSC9XAXq+WyFqAi/19+zMFfsCePvndlwW3UsZOGtDV33uYj58rVvStKrPCJ1DAaW6orqRRTE8TfGk9UVWvMQMuC5oc8qd76H8wrUSR4GET5BQmoDAmDQBKIziGqfwnLHn7wxWTgtuaKsqkN9EIwurgj4kIIWCwaQYALDsHnwBXnMm2WJAmuXb2roybez7/5v0qfvjAIL5CmcVDxhM0TdP3yy3yeff1aaaGuhNJ8ds/PrdZz+025r3Vc4IByiVSzp/7vlAdNRwx0Vqtybrn4H69nTgo7K5DHpO2VZkURVI0ieEAtBa/OwsyW5deohSCUBaXI/eabsqyC6AsKWlc3VCvVqgJhJIxrbwDXLr+lFKSUl4yOiCEjaGkWXr+x/M6W5tBUyY4Mv8TlSPmNnSGGw1axzOm+utL3l75S5ntm6tOHBjT2159aXEjp5iWkurGFiaDhSIAQdp2J+X5FbjrqxvPreM2ludnXPjyu52njp62pcxCte/YRQvXrn4x5F6lSSGgo1SacOLt2VvcqGlsqKssyy8or5QYS0vrLidnFRbVyeU6EzDplA3yphaDStFQVlohVevuzZ2hKJsjazTU1DQ0KitTvjp240B+cV1ddU25znnCK13mOJy8uX/HyZTSxkZl7vlvD5ck1ggCbTuqw2lA0kYKMVO0pZ601JAoE0VZbYVXVRGPyPOGDRo0a0hvey6Ql1/Ty+J4mEfhsVPxR35tIJg4jdGgdbmMoeDEmTNHEip4jv7dBr+4dNOA8SMbTHyRq01kbWVZcmmxqXUZAmmWXfr54NHDsQoCtuSQxxtJ1l/f9vn67WdLgI0No1sffurlNWOPgtBJS1YsmeuQ+c0XXyQWmQRU3OYXs0sWrXx76bDg1nvCjZwxc3pJ3ZefrcvcSRh9rYyyXiFE4cUN71HqluWLlq/4vMvK9zcsfHWWlwOJC/yHvb5g7sjgjnkzCZOqqak0LVbdUNrMKCurTKuwC7G1EVvzb8+qMTkcvsBkalY0SBrkhqaz++Qp11A3b7nc1oGL8qXl+c2qq9U17IyyQX25tmReQXopEhfpGuPGVksMeiLU2bXPzAFNytK1qfttj9svHBxgV5+87XBhld+A9+w6SKWJPPQFH8iDnDt3TqVS/V3fJ6fMGq1OZzAIhGI2SptxHLDZHCYDQ7DbnUq9TmsCfD6fz2H/K+Vq+z55//793d3d229PT0/Pz89/rO+T08qihWs+Pno008bGzp5oaNAYmoPGvbVi4YrBfre7obrqhAMb1m85UoHYELRDj34jBno1nt65tzR03CtRNuVndl9rADQN7PoNenfalJQ9P++JLWC6ODp44GgF3mnU28uXTAmwoyW5cR+s2hBbpPNwALTAZ8Cs+Ssm9rL5t9Sabd8nDw0NjYyMhCbvYCZ/7nkKJn/c9p7A9doWHLB4fCGXSZoJCkEQJnafTSnCYCRplMGmTFqtjmTz+Hw++16K1kpTZwI8Hp/P/VdVmn/R5LC7DukY404GU2Rte3dijvV7L6SgDC6vrcDzrHi83/7M5gnYvA64aBBOvEEgHRxocggEmhwCgUCTQyAQaHIIBPLPAGfXnyF/+HjyIQFGIY/QsZ12D+gLVf3Pm/yPHIcABDybwoHrVCpVkxa//+gUimIcvpVQJOCy2U8UlYAmTFqNEcfYAgGHhT55mucEwqhQNDVp9AwM0AyBjdhGLGQhbfqqm1TNOgLBAImzhFZisS3vbwnzQJg0z5W2/5nuOmFQyiRlZRUPUlNb19isMRNPPwoY2ZC87p0Z3WOiwkIDAoK7REX36m2hb/eY0K4jBn/w0/ESqeFJTkubMk+smTR3/HvHElT47U24yWw2m+mHpXluK+fmyo8+Xd6rZ2R4WIC/15hV6y81mFpVo1rSfvjif9GdQwODQsO6jVn1/YVK/bM4P26R1nzvRtHG7NOfTp07bumheCUOx+T/JlRZ29fN6RERHuIXENY5skfPNsf16h4ZHjnptRXnMyv05FNe+oe5Dd64+2rl9Z+m9HESD5+3Ja5YakFSmnp1vrvTzsULl362M1P+59+BwBVX0ltunao2l0rUt6Of6DMuJ16/nthMPSTN8wpiG7Rly15p2rYFEzzYrIw9CUcP3KixVI6o7YB31/+asG3m0Lmzlx08/82q8X78Z3B+Q1b8tWuJV9pp25iY0ZxyqgYvrVcbocn/TTj0XLl5z4UJE3sDj0GLdp6plFkMV19dcuWHqcKircs37LxYqHkW5+VxxBjHmocx2beXWCIir+h5a6dP7MM8d+n6iZTiP+1yltus/7259+CWV6f0dm8r1ZRZnlJfW96oI/84zfM+2AIeg6a8N2fIWJfUQ6d3H7hZ3daaI9Y+3YJGDo4Itbd7RutQKbMiTVJTqminrev02W/sPbjltWl9PQRwTP4vQ6esReV1nLCxfr5+bYsaUbZNaPexDr43YnPKMyqqR4WGMZ5dKW0XFIJv4whEToDGEdBadmiKMJv0RhNB0Qwmk8vlMrHWVZk0aTYaDWacpFEGhqAYk8ViMwBh5RY40DWQwWSyEJoiSU3Ztf3ZeUI0cgBuNNEYg8FAqPZpLMchCJKkAUIDgKIMBgMFli1U60ubGMbAUAo3GVsDQCMsDovDbo1V+ntnZzH+mcktijQwXH0mrYwWcs5+se/gbpdO3qvHuXExQCIIRVEISd1tsGjSfPda2CzO3birNImbTSYzDlAmk4FRJoPOQDB5AoGAgwGKsFy/qTXYK5PL5bTqb9FWW37jcGYOEhQ+sJ22ItdOA1w6MRh/pC1FEMQdbTEMpXGT0WjEifb5adXWaLZsbA0a+0y1/Q+ZnJZX3DAo6/r2dA92trm7VaNSEM0KwAphMp7pOwnkbT9byg5oriunGqUIJ5DDRABN6OQVKUlxxy+lVqr0/iGhw0aOiw4PsGYxtbUFNy6ePn2rVEaIPfkkxydmwAtjQqjcm9ev5UmRsL49BvXpoi1L3D53w+Wr1z3QXkeOkf7ufsEhEVx55p00PQf16cFtqcstyKuUG2kTLfQIDAsPdaTqcnLyy+s1gOvcKTjYlSu9fvH0+aQiuQEN7tV19IipEZ62RknBzYunT6eVSgkbTz7F8YnuP3TskKB/qmOAETjN9F7w4kRNYfrmn67EsQd03jTI74HoTDRJqiWFSXGnzyUWyg1oUM+o0SNeivCyZQGyqb4o7cbFlNxKit8p0NtBkXxo1868znNXr/rgZVdjTdaVM2cuJxcoGXZhXUeOHtgnzM+ahTeUX9sxb8OZuERXosfhY0iAm3dQaBRfkX3zWlKuDIT06j64Xy9eS31eYW5Fg5E2A6Gbf2h4uBNdl5ubV1anARwn/6Bgd0HDjUux5xILZHo0qEfkmJGW/JikRckXT59OLZYQ1h58wPOO6jN03AvBAthd/4seb6rKbK6rcPd3dPawue023Ci7EXuxrLixW5/QmBDPZ1bjIbiRaGlqaVKpVEqVtODqzs9PJ6ZgU0cNHNMtzFyTse7N5SO35vEnvLfr69U96orfmbxy5YEEuaZox+cv/XqtYcKyTT9vWNDHVJ+ZnJdnxkQiluxy4o7PdscnVBvNGoVSryAwkunINIfr1NLyqrIGZQvf6m4aqZEEhmZZQfwPny6cPm36kh8OJat0wKAq+2H9hy+9Mn/H0Wu1eXHLF/zvlcNFYa+t+mKZl+rC0uWffHK1MHfXmpkHE2Tjlm76ecPCvrgk82ZeHv6Pv7HIDR8ze8y4cU4ZuzL3HEyoNN0X34kGLSVxC+f+7+WD+SGvrvpyuW/LpWXLP/4yvsJkqL3y3luzJ31/Uxg9Mbg0a8OrM081uvee2N+WoVCZm69t3bT45ZN6t0WbN8wFuScnvPHpmgvZZlLTqNLLKYxkOjDN4Qa1pLy6XNbYzLNiya9c++mznZfjJRZtW+RFV378fNH0aS8v2nbghlIHDE3lOzesfWn6/O2HE2oLEt5/e860/bmBs1Z+tdxfG7982Udr4gvy9nz8xr7LNaOXfPXzxsUDKXnW9exsM+yu/3W00owyWTrDr5ezLaZXKTU0rpHnxK3fEnuitsecT2a/ONjz2bXkbMmFnV/U3jzlY0tryytq1HL7nhN+3rVi5AAPnuzMhu/OablL35/3wZAAFgBTvl6pXr5q6Z7zYl6wWh1gcPW1EyII13nEsrGJmUBpNvHdIt/cOLPYfIWg2QBz7NxzwsdfZJPvqzm9Xpg7b4zd7Vrb/k4ayx8ir5jpK7exDatWHVL69+ri5wA4dOTokF6+3uMGvfty8caV11PtF2x6a3YvPxb97v+maVceKL507ryG8NXZ+diLLGcfvnRsUgalMpP//H3ke096c2xuZcK3Bw7udXPzf7c7uPu+mbnm/I59qZnitzbNf72PH4te9tpL2lX7s+OSix2t4xuLTTOnvzx9TD+rzqYEVU0O12nymkU93TDEWPe1RpPvLR7aGuz1w7f7kyt/0SeXNQ7tGtZ93Efr8+iVCtBjyBvzJtjf1tZhzvqZZfjl5jZtPbtOW7GVbf5w5R6Jb6/ITo6AQ0eMCO3r7jJ84MpZFV9/kJBkPe+r+XP6+LPopa9N01buy71w5gJJuGhtfR1EKMJxHLp4zI1MQ5OZgCb/ywNyWWluXTHeVHfkm+zsk91wTVlNjVwjCh312ubNE8f7OYqe5clxu2GTl658b1KYNUUCgLF4bA6baSmbZHXG6ZJEhc20zm5et3ueAq+wKI/oU5eJ9EhgRxz9ZkNeavLYif27+nuP9fPy9LDURBTg4PS9YMGEicRNBAsnKAKAO/3XB9IA1LXncJ+YxJM5STfz+kV1IVJjbUNsu/UJRgq3V2dV+oQIuBp5TRWNMowIyZeUUo3jaCFxfMvG/LSUsRMHdOvkPfrO2f9xBJ1GzX4lp6bwq18uJTh08/Wibz8cx+VFidUZFb6BQl7btWBGQPAldebKWomHuUXN8QBsBg0Ag0kyFbUatVRDooADOHajpo53jpQ6eIDq0kKlWqRGHLRqibQ12CtuIgkTieLkg9pS3Hu9GtSl+1DfHleP5SddzxnYLZJKOy/244T3DsWKf6nKKPPtJORr5bVVNIIZACGQFtPycZSQPrXty4KM1HGTB3bz93nBx9PDnQNN/hQG5EZlVf9Zy1a/83aUI5OiAI0yuJzbZnvGkHy2vUjgYCX47YCWQ9BchACAeGCWDpj4Nv+b/JKuqj42+cK2NadNel73SYs/+GC+py0AwIAh+t97xE7jJjMFAJPF/m0a19AJzIDU81mVoXmNVk0HAoXBfl0DmYQM0Bzi5tnYrXmKyOGoidZocHHvUT2Hdgm0EuE1daduXvxubezXel7MhLc/XDPf05aD/FPz6/dmLtkhI16deLMm/dsjaT/SmsB+/XvbtQ492UhbsOqtBcqotmsxWfcc2Le3lx/Kd/ctK63PLajq4VhfZDSaunf2CHHhtw7a+PYO7qybez7b/F4FL2xgsEjemMlFxpIPBntt05ZmsjgAGFFU3/43l5Cx3ICUS9nVATmNYt1hP56nZ0wIk1ABmksmnz+7taCp6wi0NQ6sqMeY3sM7h9iK8dqaY4mXv197drOB23XMgg/Xvu1l94y0ZfyHBuS1Za7BY0J83OyEnL/x1MjDQi1TKA4wM0XT99bj0SSqp1DaRCjTy8wvvPntxS9YivK89LPrt+46cv5MaPeI9/rzAUK3rdND7lQJbRFJEWPqyfNqLt116AS7+9NYsPFZ0C9IdvlS0/GIg/r+tr62PdwAJTVjaJP/+CWL17x/J8AzbdbjuDw9rcFjzuaLG9iK8vz0cxu27Tp2Pjase8SKAaJ/xuUEgyIZd6Xkeo1988W0stRvzuxOuKB3cuiGAEAhOIo2+Y17++21q6eE3LkWg4lCMKSecgowHjm8VZu5haRwQecZy2eMC7Bq7ePXXV/y9vu7S23nrjx1YGxve/XlJSpuId1AqpUaFgtn3L19pvQzFxsxY9fhU+zbZG2vg7X3G/2D6y6d0xyL/JXqZeVi1csdUDIziql9xy5ctPbDqaF384PjDRnpcpdZG89/zlWU52de+Oq7n05dPB3cI+rDwVYINPmTD8hlmeXSHNRvoLenPefvffYDCBqhKJqkKIKmHywbTCtvhmOIvFwuUzUSFJ+BAlIvLS1slLIj+viSly6csfEbt+bliGiXTmHu+ar3jutxpZ4AXIRFAAylSbo1ijONMikUtH0nTC8xau0QAgHU/WnanBHUo69v8KmtW2fzR729af4KMQaAjXeAa9SOm6Up5aVjAkJYGEKapRd+uqjWxJ/Te7t3Yn00vfXsboVNK47qcZWeAKK/Pbyh5cLMSpmS4orNlBMTbV2jzvUdMnf2tIbSdftxzOAPLP0XGy9/16jvr5XfLCsZGxjKtlyL7OKuC2qBW7gPAF1eWTFzwatBfBLhcnl8LosBKAqg6J1grx+9OrS3PRcoMq/pZZf5DmuKjp+S2Yg8w1gUAlBLTU3qpUaNwNyqLZMAGG3pfd3VlhMQ09s/5Pim7a/xR8zfOGeVLQaAtZe/a2RtQsXNsuLxQWFt+bn08yWlMi7O7CH2Yq6bFdXNuVOoe0nzyv0thOXOWjGhyZ+ol0cDYJQU59Xkm6NHeAd4/X0fvqEIlbq5tjBL06RoAmUV5Rl1zl3F1kJ++8c+Ir/V0yPBxxtj9zj4WM/r7oqWxH5zLC2hy8srx/f33Lr6xxsVjKtdXLq6sdUSo4EM8LR24lPK6rL8lqYLihp+bnlfkY+j2CXK2iYuvzYrI9+9hCT5TBGHeCCNA7d1uTfbt/vA6L5XkrRdwoP7+Ytb57H8Xny5S2n5Jzf32Z20XzCok23tjW8PFdcHBfW0K7h4swq9EuHSzY2tllrO7m7tbf33BzAlzE0NVVdPX9qaJPMfyussHuRqb916NZj/sNcm3ay7dUqNWKo1APi+U16OKCv/KHWf7UmHRYMCbOtvbm2Nu7pmgrux5fN1R3+eVt1nAAfVkSwrz8Dgvr0Hhvh4MrgcPt9kamlUSBUKo+rsvobkJNTVq1Fujwj5NvaOXcTiC7dqM9PzvSsJnMnkc0lVTXmBWnWpvoaTXTagt58jr01b7+h+MQMuXWkJCQ0Z2Kk1EBXfZ9K0yNKyNan7xCccFg8OtJUkf3e4oNLHv49d5oXkEhAX5RbjwW6WGnVEJydrX5tnpS22Zs2ajuxxwtDcpKxJi9t1/kI85hzTNyrS05bLYDGf9NFhWVmZwWDw8fERCB71UJNWZS9duWzluksayt23pfz68UOpLQL/8K7uovYnR0QePSPCI5JP7P9q+6Hj2/eeOisNnvrxysUzfdHi69cyb168fC7+wpkru47uq3AcOOd/c4Zor276bO23txqNzTWZF6tQl8CQcF9XW6Qi9eiub7buVdh2Gj1xGifj28/WtE8TGeLQ2l1EeNbMgmq+nU+PF0eGt83EIwK37p3DumaePbr5x0Oxp385nsmImPD+/P5k+pWM6xfjzsedj72y+/i+crt+r895Y5Aj708pV1lZqdFovLy8rKys2m+XSqUKhcLFxcXBweGRI62S5R999MXOFErSVJeUWE3bB0d2tmvrjmFCb19GjZ0jz9F/gK8YAYjANaZzWNeci8e/3vFr7Ok9JzJB2Ni5S8cGS1P3xCWcqTIgKMbW1edlp14/d+LYL5lKoU/wgIgufEp348TuA8f379gbb/KOmjalU3nsznjg23f8uJ4BnmK0KuP4rs1b90qtvEdPfoWf/f3nH3yV3GBoqc++UE47BkSGOXLuaFtcK7DyiJk6pssdbV2jw8O65V0+8fUPB06f3nsygwoe8/7bg5HM+PSkS1cvxZ09eXXPyX2lop6z584b7PSH2srlcplM5uDg4Ozs/CQjxg4erVWa+Nmnn39zJNNGLHYzETJdi+MbK95dNH+I+Amn255ZtNbb8ZUpLp8n4PAsI0xCbyQBxmATJq1OS7IFAj6P9ccdL9Js1GoNCJvD53Mfem2U0YgjAGVzmL+bAcBvjVX64Nn5Aj6f9ee7fX9ftNaHXAtZf/7txfsanHt98uHcTuK2BObapNWrPjgh6Lv2g9VTHVkAJ3CDthmn2TzBb4O9krhRpzXQLIu2jKeh7UODxv4OMFrrQ3Hu+/6Wvu9v+fdn9DehQlEGry20KJtnxec9ukvG4liJH2e6AeX8foz2+zPwJ8/+rxaTAiQHoThMgqQNOMHCUEARGJOBCURMBpvZtuaVyWAyre3uiXlfsFeMyRHZPE1tHxo0Fo7JIZA/C9O+66iQuE+3Hl7Twv3f613dBGhjdfqmbfF5vEEfjooWMzu8ANDkkA4Py7HfB+sCZuQlnjt/ZOsGiRHYeocMn/fN1zGd3cXs/8D1Q5ND/htGd/KKnPJm5JQ3/4PXDgM5QiDQ5JCnA01ZeNrPMloPSkEZoYywu/6PF03SqKio0bB4Yk83m8fc5XEiTxKNknotRdg5e4mY2H9CxsbKmhYG18bL3eZhD39bF8UhjxXm1aImqZTWawjc1sXbqgPKCE3+t5RNXJKz/b0ZOaLXZ727wJ6p1emND3uxEGPzBTzU2KRubjaSD94hBovFF1oJeNzWxzy0Mv7nD5JqPcct+HBYuBBDOriM0twf3389gzNx5vIlQrq5WWf8gwumBSIbEZ+lVqqbtIa2MK/WNlY2grYwr4SuuUndor8T5lVkYy1SJuxdc6XcafSCj0d26XAyQpM/eyhcEvvF2kJi8phFr/Zxazj2/nufbD5cxuazWShCmw06vd6Esnl8PgdDAIGbTRqP4e99smaM/uCG1dvi5HqdnsbYfD6PgaGtMYxMvMhBY956980BkYHWTGbQjKWL61ZsOfXTToeVC7o6okgHllF67utP8vQjR69Y3NemaOHqT/bsP28y6M0Uh8/nc5mt/RuaJgmTTo++8MacjxbM2r7pk4MHTxv1er0xau7KD9asHu7IRgHVnLZ94+dffH9NQ9AoO2D6kg+WL5nw0qJFdau2nN6x3fGDJdFOHUtGOCZ/5s0PqE/45nQu6dpj+AudRADX1+oV/qOm7oxLKa9pqC+6/unk4UJ+93lf/1oukdSX5Z/74dUB0UKUBhHTPj5SUnzi01dirP1ffffH3PoGC7VlV3+eLKrcPWHeZx9fLDBYep2Cnm+8Ym8EyYeOFjaRHVhGSdK22GyDU/eRwwM4iLjzt1sPlcZ/+2JPoe0Lr26Jz5Q1SKVSSYOkNufq/heHdCdQW50wcOvWfbJb3y2c6MFipu9JPLq/XZjXQ4nbZr3w5uxlv178dvUEfz4Agh6vTXchWSkHD+WrOpiM0OTPunAaSn49koT79us7oRundYWj2XvuwEnzxkT5iDiAKeDxRHyWvRPPzlnAxJhWTt3HvdUnZLSdvsVS0FA+i8tnsS39rdsjRbZ1+Nh3Zo98sUve8eLLl/OVrRttI94YLtQ2p+9LKSM7rIxlR4/f0Lv17Ts5+s7aM0Ts4M229eRgAhZqhSAoiqA0xnIOG7lueZfuocpcha41mcegye/NGTLOJfmBMK/RQaMGR4S1C/Nq2+W1YdaELnP3zRISmhzy+DSX/FIqR5wCunR2bS2sLcoiW7TawfH+dVYoCcDtuV22S7RGZa+t/MOPIqDWDh5W9jYYTd+dImL6d4/2bkCVyZlSUweVsWx/icxg36lLpGu7rSSCtZ/bMDZJ5QqZhrbz6tMg6lqhs/xGkkbMzWfSqujJY6jrew/u3hErMbQqTQKEpChAtptSZ/jGdPNtZDbdSJeYoMkhjwtem2mqDhkB+kdYtw7zEJH/Oz3CXw+0/eNBH8tvdEhId2/BAylu/0mTZkWtVCk1YQw2xrhz+5jOnYO8DaCxpkrVId83wuuzjdUBw+lBXa0fLLEIBei2GtJcf/Lzy8e+yG9iOES8FdH1Vfe2ihQlcBr1WvDixKUj3St/uhL36bVK8x88LGM6hwb4mDFldaWShiaHPB6kqjqvhltg9GPf6WNynQL8PXycH/JeAscvsnt4eA9RuzlRHNdpNE1NTU2NjdLUk5/tu3CyPGxi5ND+weI7Kdj2Ybb8ZlSd3qDriDI2VedXs3L192S8B9aiVzTIqyS1pWm3DrClpWFsFHCcA/28A1zaB9u6HebVMWNX9p79CZVmun3MnHsVrH2onUDHaE6VaTuQfHB2/ZlCaMtNUpZViLfgrwhdeGrX0rLkX7kcUFRW3qQkuo548+TyOX2DvdqFn0AwhqCOYFeaDQAIOp6MlaYGhpWv7+/IiGniD61Oi/2MBUhcbTc4InLIH0jN9540tzXM6/5f97q5d3q3O/07LRyCYvx6gm1jkVEITQ55TIIdRFa2/L/yIoT/yFeWvbdkij1GUQjC4LA5nN9+DpXrFMZ2qSrlSRUEsO+IdzXQXiiyE/xWRtJ61NyvP1o1M5zXcGv75mxKQf7hEgRBwJ0wrxcT7Lv5+YDfPhDnOIZyXMpLuBI5DhyY0OSQx+Ovh+VgcARigVgofNhaLFKvoXQMAcVnIx1Vxj9o5YWAwaYZALDs7H06uZow9oPebNcxZ4eMeHVSck3GN0fSfqR1Qf369rR7QEaDltJhQoLPQWF3HfJ4ICii1ZvMOhMNHvIV9Ef5EmmbfH+YyY0amdFgZKBPHtnq3y0j0BmM+IMy3q8b5j50hjsN0Ac+nURgFIG1C/M6Zu6LqaWp38TuTrygc7Dtdv8xTBqZQW9gdiwZ4cTbMwXjujJxiVxZ0NjyOw08Tbe+bUGTDBwgRNsG+v40re9NoJZCfv8nE39zNJQ0ad2trT2sbJGOKKMLC29QNOYqmttdMiBpE4XgFG2R0NLSo0wUZd1XomlA4Uq5StXQglN3pG0L8/piAA/xwQydAHW/jJRJ72Yl8LKxQ2BLDnk8eR18g+3dWDj54EdwaJNW1aLRaeTF5VVSY0lTfVxGbiDXSWxtJbLjt66wJkzaFnlJVbVUbVRLZJUlFTKWm1DIF/x+c44ra2SF1lrvAFtOR5TR3ifI3h0Q1F0ZCVNzc3NpRmyzvFjNCKqoyax2DLaxshLx2g3aCXOTvCYh9vKWRInvUEEX8QBXe2tm+zCvJ5puh3ltL2NDsbCpb1CHCiYBW/Jn3AZ5dHFGb2VUXc5W39dkkHVJ3777YtfuQ2eeLCuO6Km/ce6dYb17vbJmV0p925fv8JLzGxdOGb74SK42hJ196fMJY+ZvPpFr+P0HvDTVVH2+oa/a1cPXrkO+i4a5hztjWZlVF7LaZKSbK1asXjhizvkMRUxEbfYvr7/UberaTddr2stDN5ev+nT1nI2JDSllNz5+/6MtJ8rvdqdYzsPnjBux6AWWgN/eAVRT7SVZTKOLh1+HmruELfkzxsZ/HPCuyZNkFEr79XC960CG74g1O0c8JBo2M3js2r1j1z7enBRRcOW0HqsJ7zLdhdMxZbT2Gw18qvKlt/IlA3q5YYht0LZtB7dte+g43jZo69YDW7f+/q9s72FfzX1ARrwo4YyGLu0UMc2NC2BLDnlsrELeGeci0GedvVFgeibLqGhSVfTFebPWuc+YfiEdttIWBS0b42aL58Rey382MgKyqfjLC0aVfe/xA8M6lozQ5M8cxG/wrCFiljLuxM1KI/nUQ5rgmqzYX9Qi0HvU6HBxR5bRZ9D0IfYCddzR6xWGZyFj9pl9aj7eY/T4LrYdTLq/aHKaIgmC/JfFzWmdkyYtUNS/4tMRbK9XF73Mbqn9Zdf+8uanfK3S5K9+PJTX2XvCgj7uHTtkBGB5vjJ/mtAo2/3T3lL1U5ZRlrp5568ZQe4TlvT36HAy/rV+iaGhNL9Uwnbx6+Tj/iSLMG4/MWoXmOcp3C+zXCptkKuMZhPTysnD3dOW98/fNabboM+/dC1SIchT/tS8SW81Zu6Gkd4B3UT/gU4Z03XARxtdipXU05dRNPL1z4d4B8VYdUAZ/8olUdobP369YOSIRZuP3ZI90Ru4pgaZvL5R81Tf6zNUr9u4snvPHr179ohZsf1oWcu/RGmOc2CXkAB/u6d8VP/wyM4h3UT/mQlUjlNA55CgAPunfFS/sIguYTFWHVPGv2ByQpbxfUZWsoa6cj3zcm75E7hcX/n12s+Wfn+65GnWyzyf9Z+sP/nR1Ggb4IYxxSh8fgD5j/PEJqfJ8uTjRHEyAGaQEV9xPaVS+yeHvxRQlNCqZibFfbovAmAsvpgnsmIygQ4AI7zFkP86T9rO0frya+ckBUVcJpPA8dqzWXlDSlW+Eb+zppKmCLPJZDKYcIoCKJPNYbPZTIQitbXpe/ZknCq0CxinNeo0CMpks9gMjMZNJjNO0jSJMNhsNocBCJMZb53dozEWk8XiMFDLMXGzyWgwmgkaxRAGq/WgDAaKwDsKgTwlkyvzf0yqzewx60M/2elz5643nrqe0zNrRNgg8f0HJM36htK0syeOnvz5fKZUyfbs0ntU32lTRtqo81a9syE+q5AC7CMbGqUXXJ2Deo8aNS3Goznp5MkzF9Klykr7nuOnTnsrmpMfe/Rs3M1yRbPEY+DkGVNndbYHTWW3LpzavfeHC+n1Eq6nVdfeU4aPHj+4dy83azb0OQTyNLrrlCr1eHOB9QshM6cuHx4eLQQApKTUZOU/MP1GGfPPvjNn2qB5H59kD1+0++T7fT0K925Y89F386/UMftEi0LdEGAb4BIS4+3VydvL086KD2jAYxmbkq5cOB3/a7KkskmPYEwEbbqcdPbYyXP7r5YWyNQArz68efPby3ecZUe/tv3y7g/G6pJ3zBnz+odfHa3S0fCWQiBPoSU3V6fsz5HZBw4fFOzpJXQI68ZKi6MSk9LiRhZ0dwu7O8I2VZ3b9MPFM7nCUQtWrlgxJ8quuuZCwY3rhxHGxMjeL0f45VfkZeRouwyYNPP9F/zvNMAu3cfNQxuqatd8k8Ng0ChAxcETXpsnL6xZ8/WvXAaDhbIAYJAcAVPACe8Z2S0mppe3z4w0c0Xe7rPFeYOrWnxCreBdhUD+mslpouj6+aYidXCMuz1opG1Hujvf4oAz+tzE0psvVPQODRDdNmxjxQ1cWQpARICLq5cDAJjLhOWf9Jq+lGFn5+gINDUERVLASBFmgrwvIxSO0Pe9HEQAtPWtjdsTaSzXV959t9vYsXrMVqTLu5UsUxFKtqjtYuBcOgTyl01Oa/IuxlWmVWUkfTl9x1et3WOaJFgMYJYeTcvpWyjvFOPY6lC9rMqgqLN4lKJaF8VhTCt7Zyt757bjaNqN3AGNG80UgjHYjEe+RIXQhEZeVXD1yMafT2fVNbF8gqx1zaZKLRDDuwmBPJUxuTR9X2ZV/tD5646eu3TewuULR34a3isSQYHpQmJBXLr8dsBwnrM3x8G91ZYIQt9rpnUtOq0ep+m2tpqmUMCiZYk/7tl36Eah+XZFQgO63Wf9WmMp0G2fpgMMadInaxaMfWdrkcuAJafT8lNvFO9ZMKWfbfvPAN6O+IM8OuYKBAJb8nZNOEVSJNFw/VjjLeascS9PGRJtf+eHkBVlidrC1DhZxo3yrIzqQUO8mRiK8sVCazGbiVbkVJQW1RptvdgIZS4+v+L9RF3XYZ/P4jEoBAE6uVGvNBKSvDO3OE2Ow3uF2mEkpqNQE2AhNAYomqZIjbqlpUUPgC1KM0BzVb62vgQB1n369BnXw88RJeobNYpmHHAQCqMJkiIBTSMEjVKAidJI69JZBHodAk3+aEhtZWFJ/vUz311PKuGSTXUVDUFiRyEGgFlZX93YLKW4KIYxMuIv7fcQccYNC/Tzde684OVRyvL8nVd2f7EFJRgLJwtkhz/+dqcq6JOenRxsDUG2ts7M1OyC+LSzzflKMR4V4G9t6a1zrT2tbV25V7PTrqalRfHEZb9+cTExzogBVWlcSnIfDonZOHKY5bkF6UkZ0QKi9Kud508UGhF28cUbF3x9mTFCvOlWbrXMxKkryrmYntTXbaCbNRveash/FWzNmjWPlxKv+XXT+tVfndcz7ALVJZm5GrZfYIyvLQrIomNff/Pd8XJEGNApyFUgLb55cb9E4BvapbODtVtUr6huIcK80qvXT/308w+7j5QHDn3/82UzY9zYDBtfDzuBpDwvKen82bimqMEz/zeljx0XBQC1dfW1Finrsq5ePXL4xx2/lAiZAwf2ZDdLZTVN2cXqkOGzX3zBp7os9/q1s/t3/Xyw0H3wzBUzIpHqtPSEuFSD0LH5atzBw6k6u1CBsSY/s0XkExgTYP+U3jsoKyszGAw+Pj4CgQCWnkdSWVmp0Wi8vLysrO576CGVShUKhYuLi4ODA1TpkcjlcplM5uDg4Ozs/AS7I/Tf8jImTRBmM05gDBaTeX8cTIo0m0kCw1hM7MFeBUUQZhwnGa07EQRB0zSKYAiKoq1HIAgCx3HQ+vPfFvPo3LlzKpVq0KBBTk5OsPA9kvj4+Pr6+v79+7u7u7ffnp6enp+fHxUVFRISAlV6JLm5uZmZmaGhoZGRkc92TP5XQBgMNoPxe31mFGNxMNbv7oQyGBzGnQwyGL/5Gn8rsARAIA8HRoaBQKDJIRDI8wzs7v45KIrS6/VNTU1MJhOq8UhaWlrMZvNv530oijIajWq1WqlUQpUeSXNzs9FofOLpM2jyP4dSqdy2bduqVaugFI/JsGHDoqOjfyvjoUOHcnNzoT6PSXh4uJeX15Pt+zfNrkMgkA7WXb/zna+2CgRFUQRFEUC3bUBRlL4DgqAIgsAVaRDI82NymiJxs76lWSGTSBQqndmMsdh2Tq6uLu4Clq62UoHx+e7uzuoGmVyhMprNTCtHd1cPMQ+6HAJ5HkxOU4RRVZN+6dC7H29PKWvkcVlMBoIAmiQ5EcOm9/fPu3SoMmLmspXz+3y2bs0PPxwlzGZk3IptH77zejh8CRwCeUY8xUdoNFAXJX740rShL32YXomNnr3iZHJ+lVTWUF+VHbfZoenKpxsvXSthMIAdyvXZ+NmGkx+9GG1Du2EMMQZn/yCQ58DkNKXI2PTR+k2XUnFW+NwPv9226f0BQU5CFgPjCD2iJu375fuJ4/qgt0+HsfhivkgEA6pCIM9Pd5025p796dbNiwTAYmb9n73zAIvi2tv4mZmd7YXe69KrgIAgFuxib8GoMTHWxK7Ra29Rr6lGTWISY4ndxIYdsSIqFhTpKL2zu+xSdtk65XsoNiwxfmK8eH6Pz71h50x757xzypzzP9EDR/e2fnpdSMyy3bJRgfUZcS9eSZ8mCYNeq9EZCJJCMQaDyWKymDjW9GJojM+qVWv1JAkwFMcwlIEzmWwcQyjSoNdptDoDSaEMBo6iKM7EWSwctvIhkDdqcl3xjRsVd4sBAO7t7V29LJ+dMYK5+vu7+lSw2dhzaw+UrjI14cyhnT8euZRTWmfl5B3UO7rDsP7D27vaszFUW5l75dyxnRv3x+fmMNyc2lubmgb2GvbR7D4uZOHdSycObdx94l5ehYl/QLDIyCpyWN+PR/U1a5VGAEmSBEFQ79jqb+90DmukxQcUiqIIgiBJEurzimAYxmAwUBT9N02urteo1QAAhMtisfHnHRZ3HrNu1wcIgj53rJjk+qYfln21+wb/g1mTN3/Q79aqNZsWzNt8KueH1XMnh3AOr121bEdR7y9XXxwRRJZeXbZk5bEH9Z31uDx57eoFX+Vaj1uxa0uQufreoW/W/XCxJLhbq338LygouH79ulQqhZ/9XvGd6OfnFxERIRQKn3raEsnVq1cLCwtfL9e+b1AU5ezsHBER8XpTTd+QyQ3yvPuyHBVAgLEpx9yI+/wnh+E454lIUE93DjA4HJ5QIAj0EPdpF94zcE18/qKrWy5ev989Su5oc0JSXmBtwjTlc3kcvv+gJeMyVlaa5iOayiKNrJTHcxELeHyekUW3MeMPpd3EWzH4enFxsVKpdHd3b5FrIc/lwYMHUqlUqVS2kEsqlSoUCjs7u9fLte8bFRUVcrlcJpP9qybHzT18rbyMQH61olxdLq03AN6z00dporq6HsNRoUDwrAktO8xeuKHPCIlOKDIuvJtUXcgvVts0bqlBeJ5BpqYxhTE/fnryRxNL+5CIkT26zBvUJ9BdVFMhMDPW792+7OzWDSa2Lt0GBQ2Mjo4MDTNprYHlOp3OyMgoNDQUzid/xSKorKzs2dYNQRAcDsff3x/OJ38VmuaTE8Rrrhn4pipLbFNrobFVw9HUdTp1vf55xXVV/PRp6xdvOv8w0uNj9wMA6hWS7Dvnf53x2YDOnXv0mjlnwd70vIrGrSKa6zZ6QvTwSG+BgM/T1kovHVu/YNbY+ZvP3Ku07fDxqKEjO9oIBXytVpFybMuWcf2n/fen02VqOFgXAnmzJsdtgvs7BQYwMZB/PiPlRl41SdEtjCwrOMupizfhGnOf6JVrbNqiQJv3x8rFY8etPIqLR+44ml2akHp9fZ/O/o1J6hB1qRw4zP5+/434M7s2b5oR3d3DglV+9uL188lZZSpR99k/n70ad2TbhtVTOgc7slhZMRkpV/LV8NlCIG/U5AA4RX4+ovvHfixm2ZEte3/ecjNfrtUTJEVRFEkYdHXFiVu+SU5ld3Lv4S9AaYqiUQJgNGAiNApwvTTrdlmGHIDIHpEfdu9qwcFqJXUahRIAlEattFVnf1n18Zo/4jTWIYM/nvDNruM7v5sSKUYRGsk9tG3+rG//yqQDu38wce7GuMN7BkV1pCgSo2G/LQTyRtvkTYX50BWLUEy/ZtuRS7sXp2bGTpg0r3+Im4BWlaSe++bnPVf1gQtWjRjubwJIZVl2elJGkUTHLslOjbubFBHO5XJMcWZ2aXpSxp00a9v6Y0v23b5aijO46Xcvnne0LNQz4jZt5VPGM2f0sqKK0q6VKnhe5mIHIwJhlB7Yv5W2ES7t6y2quhevr84OCx3tYgG7xSCQN25yAABfPPi/v4R+Mv7Uwe+2/nl945yPN9BNdXL7nqPGx88fG+Rk3lBVp5RJu3fu+TNLZxZuX5t97LutXmuWrvjvWk/XNVsOnVs0Jm4R4Pf8aPq6PWGHt249e3FHcqUPrXYPDFSkXloXtfsLAGgj9w6fLZn9SX8XyQGeqX+4PP3Bhg+7Lm5o2wsjoucumhIdbAkfLQTS3CZurfnkFKHVqtU6A02iOIfL4bBw9JX2ovR6HY2hTCYLe9wFT+oIBEVQHCEIPUkiDAzHGGhTeoJCKBTDKUKvJ0mMwcAxZmt+eYXRWv8RMFrrG+FdjdaKMthcIZv7j/dC2QzOMz9jrObrfDJ+a1P6JrMDlMGCkVshkOe6CkoAgUCTQyAQaHIIBAJNDoFAoMkhEAg0OQQCgSaHQCDQ5BAINDkEAmkrwFFircpLBw2/JIJU436N/9O4xAwUEgJN/k5C6OqUqnqt/kVG5vKN+Hwu9jwLa+uqZVVSeR1pYmVqY231fi+gShk0Wo1W97LJwxjO5nA4OAYzHayuv91SvCZj3vxP3d1dnRzt7BzEbh7ePs14e3m4OTn6Tli1M7P6ubuSxRc3LhrRPrzDiG9+T6gyvN86ktLTa2dEWlvbOTiLxS5isaOdtaWZqZW1rZNzw59ODva2ZmEfrzyeRsA8B03+lkHMgrZsPZZ3aeOIMJ5Z/8m/JWTI5VVVVTKFtCL9yt6hXYN1QKshn1udxzyGrtq8d/OY7kEIzcDe80hWhLq0XiKOit5+4U5huUKad/Ob0QOEvPDPfjhYLJFJC++f2zaxRzgfARiM+AWr6/+O002txExTBw4qYKKihvY1oGmMZdtu8PrFl38vqMqQ1Yea85+7J19oxuDawIwLaL3eeXL3EKuhoS7MhmKJyxXxmWZMrrkNj4lhTKuwIVO7VmZz1HUkADiUC5r836htIij5RI1JWyNRURjHxNy5W5HUoFOpKYKp1xsICmAMBvPRijENO2oYlPpRg50mDY3JaARFEQRhMDAGo3GVGJoiCINeT1AAYeAMJs5E21Y/HV1blWVEcy0snzYwQgJAAdDQCmfZBtclSoCkXBVsz2rQz2AwUABj4RigKZKkAIpiGANDaJIkSYqkAcpg4NhDmSjSYGgQlgIoxsSZDAaGQJNDXienAroxTwJD6eHlt4Cx2/Cv/dp/EWQAhtrkkwdjTiakyHC74LBhQ/uGezrzGC0bUTShKrp3/tiRuKRcOc/Wns/kte/aoVfvfqYorZI8uHruaMz5tAotHtAtfNiAUb62IkYbaoUhQtd54fYo1+zF3mOKu1lJku4c2PidlXuwm7nu3OnLRbh44qBgdl3Bjbu5hJW4c+Tg9iZV9+7cupl6v55rHdF5UEcPi8Y3Z11h0oUTMSev5ivYNu79Bgzp3SnUlMNAYJsc8g/Ba7VyeXVZlaTw7r39QkmOHxMFHFsfV+OKfRumf3CCEP9n83dTaq4f6jt+zZcX7j/bHV9xZd3yjRtzbPp/t23bkjFMxb3Dt5I0FAVUuecnT/x4+N5030krNsy3kxyfOWvlD/GFbStSLcfK3c3R1Zb34hQst/YBztbl5/Z/OTl6ULfpX38de23/d+v3/5lYVBF7/MC6eSsOH7qeTfJNWKTuzK79C9acPn63nGiwuPz2/kUzJ35xmwxa8c33gyjF6iFLlm+/pCBhSQ75x2C1sTu/uPLnIgZNESqr/uGhvRo/9miqkmprkx2N+3lglm6dvl/QhbnkUP2NTEWklxXryd3VBYnqfBAU6OkpxHFGuyWjw7yqLRWEofjU5l13ki3nbpw1ubM7k172+UfaxX8mn7+ZESEOYb9XAnOsO49YNOWepiTj2sCP5s4eIoo9lcry7dSn1xSbcgviQinFZNOI0LfHyJVTM/SniigmgwZAnvzjH3t3GjqvnDF3mq818Fk46aJkbXrKrSxJz042CDQ55B9BGA+ZuWnl4o/8OBU3f16fjsuaVvrjWgwZM8IhXO4gxssKcmUqsxpgIq+uqFSCp03OsfQXOBxas2/a0eqo8X0iQmx6eHo72HPkyRcL7xZ4tBMK9PLyEhrFDAySX1KozSut04ewme+bxnqdTqcJDGe297P3dJ/i2bOpCwRjo+hjMSmijiZ0za/OBzdUOUnG5i4krpKWlxJIPagBaKqkOk9S28nGCJoc8s8yoBDgrAatmRaWzm5ymtu0IiTFt7UT37+9Z+mns/MEQT29mNKqFBMkmmgc6QaeKEvEXcaNnlBS+OPR49u/OvobpfHoMnnp6tXt2YDmEFeOHsFvlwb2Q3Wgrk4rDO/SqaMl+31sheE00Hrb2ntY2Lzs7hHwcAAhivJQlCON2X5amlbVPoiuN1QLjVjTA0I9TTiwug75p71uT1TcHfpNdAAAbShndaUJU2YsOpBnPm3pmYODOpnXxE2d+XsJLaHqqlVsnIGCh/lRl5Eusw6fdWLMNzXFD5Ku/PLbb3vTTgrvWI1jAJn7Bwv/s2LRMC9mcw+dzkAjCNbmHyvS4jX4ilAMAYU113EoWk0Dre9nS+atWDrIuPFYNGXQkzSCtrEvcbDjrZX9TSEGgBA0oGiaavgbZaJoc9BoeW4cLska0KfP+N6dzDmgqjDeUHWRh9mmHzh0/tBBKckiAE4jJEDoqtgd8WdicwgTcbuIkTN+/mLgOCu5qAyz8TAKycvNu1WQZ2hclIoipGe37Dt08Li0TQ6So+mmfxRFUzgJUOrhT81bG/5o+D+q5SuWak5FkypZmbKqhkRpCgEcO3cje6eSoqrCArmhcTNQZh775fC+Pal10OSQV20lKmvlGfeOq2Q58tq8wrLUcpniyaHsDCbOZmt1qppqeV1dVd7JnZJrCbRGWaMgtXoUlxTdV1VfyipJSy+qxSy4xxOv7j4XL1XWKxVVirpkNwcPD8d20VP8Jpr8lbD799PJJUqlKvvchn1Z5/K4HmZtcFAIrVfXKmQVJXl5BUUV9Q8eVF64nZlfKquu1ugbvzEqamQyg7SuuLIso6qu1kA/estieEW1vkJSo6ovv7MhJnF7cnZ5RXlOSbXGOmJcz27D0nbs/3XnsUJ5rbIy448fjhfdlAc4iNrc6xHyDzh9+vSePXsqKir+PiklS5swfqiRkVgsDulg7+BkZG7UaerqcznkoxTK/PM/f9rVXejk7Wzn3n7U9HVb1k3tKxa5fTBl3dpZY0ONxM5GTo5GYROnrF74Rb8IYyNH247hw9oFubv1H7/jepaaomlaX5J8/MOeYULHgIAQP+9uI+YduKYwvDtyXbhwYdeuXcXFxS1+T0pK2rlzZ3p6+qsfypB7euWn4UZGRkZiZ7MOoU7Ozg3/3XnS6rN5BkJ6a+qEKCMHJydHBycjqxHzN92RNe+ml2TtmjDKWxjawS2kfb9ID/dO7kKRSGQ5fP7GOzKaqi08//PE7u4Cr0BL93adek5eeyVf9e7lutTU1J07d965c+f1dm+1FVTaKG9+BRUDYdAoa/WAxeMLODipJygEQfCnWtWUpt6AoigTI+uUdTqUI2hI+eR2nVqtUukAj8vncVjvklzvxgoqlF6pVKk0Wr7AmI0Bnd4AWCw2jjFQRnNHhkarUqkJJpvP57HfxZls7+oKKpBX7RRm4Lix2aOOOSbj2VyGcnhN1sVFps/7/o2yuHwWlw+1fFGblCkQmQge1sFxdovOc4TB4RhxOG34/mEWgEDa+EsOSgCBQJNDIBBocggEAk0OgUD+FWDveivyws+TCAzA+no6NuqGtPwdAYCGmr7fJn8yjzyZEeimWA6NWaQ18gihUdYplRry6SNTKIqxOAIOl81kMF4vigtp0GoJEmWw2PgLwxu8Spr/DUhdTbVSqdEzMEAzuAIBX9Ac1IHQqJRKtY5CMECSOJcjEAhZbyUsDklodQYS+Z/Rts1X12mDqrpaUlpRUVFRLqtVah8FBCA1tTWycolEIquslFQqauv1b3hUEFmRsHzaYE9PN2cne3tHsau7dyO+Hu6Ont27Lt95Ml+mJ1/jnLQu5djSoZMGfHH4sqI5QClNEg3QL0vzP/sAa/IWLP7cx9tV7GRvZxm1+KtzVU1jVqmaxI1fjvQQO9nZOzm7dp2z/kRua0TLeI62aSdWDZ/cf+afF+QG2CZ/F9AXHf7vnC7uYicHe7v2H687lqxp+t1Qcfyr+T3dnBwc7Zxd3LrM3HDqgfLNnhmz77Nh/43ypF2jIq1M+8/acrWopoHq4pT46TYmv3w+ee7a7Sky6p/fUeWZRHn8wVx1Zomi+WbUd+Lir169XEu9JM3/Koip95YtBxWpW2YOs8UZt3fEH92fWErRAKBmPZauP3rt13G9P58w//ClzatGuPNa4fya5AsJCfEXax5rKz13Q3b5r1xtRpFCC6vr7wIs10+++yM8wGb5mu8P5Sbcu3k7vUdQiBkKcLuRX/0e1tN80YVCx84Ll/X257aOFFy2CcY25mI4q3mkKiJyDp+59pPC+gXbY6/4de/iP9j7n52Z5TBx8jSfzkNM3X0cmka50UTVzTKFPe4WAYzQF6T5n8ex14dL6qvPxl7Yf2KXW7DTnHAHBgIQY9cOPoPMecYWZuzWqgnKb5dLzGi3LsC4WVu7TyZOdQ8faOTq5ciHJn9XKnzy9Bobzx7R4aa3zySmBqYWtu8ubnpeKoWhp3+od0hrOfypDoAn5pXzTKyByBqUGhBANPUakKRBrydImsYYGBNnNsdspSnCYDAQJAUQFEUag44yUJoycfaPcvLHGBiGAJqiNEWJ+9Lu87GAHpSBIFEUxQD1VBpAUyRFPeylQjEURQDVAN3YT4GiGEITDWciKQAwBs7EcRRpjgPb+OPjszP+pViwJKlh2LuMXBHM555av2Pfbms38dJBViwUkAhCURTScOXNtdLHl/3EvTT+3lDxJkkawRgYShF6vZ7EmGwWC0cbthn0jUKjDfo3x8xt0Lb41sGUTODp1/ORtjRl7OTb18H3tbR9GE634WIM+rek7ftg8uqiGLWTTYfg8dpf8/84W3Glc1G4szMHAbTsbrIX6ShwfhuhfggEkI/8rqosQKrLEaZb48I+lL6m+Hb82QMnErKr1N5B7QYPGRni48pnMDSSnOunjxy+ll5GmLoYM/iuHSJ7DvCm0m4kJmbKML+I0MiO7erzrmz5bO3ZS9cc6IgDhwweDi5e3gGsyuSbNx6miQjj1Jam388qkesRPc21cfP28bKkytIzs4sqVSRuLvb0dhTIEs8ePXoutVyDB3YPHzZglJ+tSCfNSTxz9PDVtNJHZ+8xoIcX7196ihhhoHHxnNHDldl3f/z14kWsW7sN3Zxb5l+KVklzrp2POXoupUyNB3TrMGzAGH87EQZolTQ36Wpswp37pNDb38NWEr97y7a0gKkrly8bbUeUpV05EXPyyj0JZhPcYdjQqAhvZx6mr8y7um3q2uPnr9gODD9wiPK0F3v6BHKkKbcSr2VIUe/wkO6dOnKVZRn3s4qqdA3aWrt4+fpY0eUZmVkFFSoKN3f28HISyW/GxRyJu1emxttFhg4bOKadnZFelncj9uihhJRig4mLES50De7UY1Bvbz5sk78mqpI01LwK9Q7sEe3Yxa/gYnL67fuNzW95TqyxqMDMy7TVZ18jJIFq1Aa1ur6+XqPIu7FzbcyFq+SwqMjBof5k2b21k2d2++4uPnzp3p9WdsjLnD5g/pL9FxT1D7asHrbvcvmIBT/v/WF2hKrg9pXUdD0mEDBKTp37adnv5y7ma3U1lZLaEhXQYxaYxqdWWpj5IKtcVssTPUpTriWAuros5dQPSyYNHzLi85/2JMhUQC3P3rT6P4NHjN+w53xJ5sUvpo4dujvFe+KKjY0hX2eu/DL+fsb2ZSP3XCwdtuCnvT/M6VxflHQ5Jc3wr89Y5LQbMnHQoMFmt35P2XPgShHR4oJU+ZemTv5k8B93PcYv37jAserU7JnLv71YYNCVXv5iytiojZc5IcM90m9/OXLU0Sq7joM6CckKma7u6qbvZo44qrb9YvP6abqkmKhPVy85m2Iga6XS2hI10GEWaJO2OVllkhqekFF65uLPy7acPVemIYG6pjz1zMZlk4cPGfHZxp3x0jqglt/fvGbRkBGfrt95pijrysKZnwzcnuT+6fKNC5yrz8yZuWzFxezMnSvH7YzNHzTvp30/fBGpL7tzMTlFD6vr/496cvn9rE64lYcdy8FpMNPnWvH+i7fDuvby64MWHfC04Vt59Gp9DVilJzd/mX1un9gUKHNzixUS884jtu9aMainI18au2Tz6Rr2vOUzVvT2ZAEwevPyui+Wzt15XsjxrFV4Gpy87SxYTJ7DkEVD45NoiU7Htw+esWF8Hn2ZoNmAYR3YOfrrHzOwxUpOl37TZw0ya35rWzxM0/CHSBw+btVWjmHpkoM1npHBnlaASYeO8O/s4TSs2+Jxed8tSbhmMWfj7M+6NIV81S3+K/fsqZNKvavBxtvenM3k2w9aOPRKEinVvgPBivku0dMGpxbG/7xz315bG/f/hNGPCip96Zlfd9+6ZTprw5ypXT2Y9OLPPtItOXAvLjHbwuhcVZZu4kcfjxvaXRRIXFNWpHFtR6+cFW6LIpqS72sUSbaibl6YpWvwuvnd8SV7NNdyqnoEtYsYsW5DNmOJAkRETZ811Lz5RJZT108oBOdrG7UVOnUYu3wLh1yxZI/UvVuolw1g0SFDA7qKbfp3XTapZNPyyxeNZm6YMy3Sg0kvnDJWt3RfxpkTp0i9jdba28GSzeQLBswfcv2OWqoloMlf2+PV95JdaTu+szECWN6zevhL4n+6VpiWXNbLPBuxpyx8rYStfxEGs6gPFyxZ+IGviCQRgDF5DS3BBunJoqSY7ItSk9GB9s7NE8H54nYhTuEn44hb7fRG+v3frk67cW3oB71CPZw+9Lazs21IRQGugeY+bgnoSIOOYBoIigDgYZDWFmkAahcR5RSesCkjITGja5A/ceuQsb9FUEdfJOP3wjv5ngFGQlJRUUqjGIFT/OJMQ2V/HUd/4Ps1aTevD4vuGerhHO1tZ2vzTkxWF3gOnjg2pSR7w/a4a2ah7o5I8+RcgyTzckFSrqevsejhvTBIfkmRNreoxEFfq+A6AS4OAMJkkkxpYW11aR2B2vIAx3zgqOG2ITI7d05FUZ5UaVKDWCprysrrgLU5MOhIQkeiLbXlGCju40oEahvex7lj/OGsK1fTuwUHUEkxIk+ud5g/lrU7PynHw+vR9RgYJL80k6gYoOcQhzatS799Y/iHvTp4iId42trYsKHJX7tBXnASN7UWOlo05E+Od5cuzv6nfr2cnNAn1bc4FDHm2r+NBjnJY5mL+BYiwbMNWg5BcxECgJbvcUQnMJsWPaY+t/DYjWPf3DxMGPidR81fuXyaowkAQI0h9c/9+EYaCBoBGIPxbBo7/+G4e9LJu4Ue6QpRzS4/ka9ziDdOSAHNJa4cPoTdKAnqj2iBUqkVhPUJ7xvkayQyFBQevX7sm1sNZ+/04fxVK6Y5mv6bL+xHNSO/gROHJ5bc/Wn/7a1UvVeXzmFmjU1PNkJzyISjh9FbZcHN98IN7do5wtGVwbN3zcmVZOaUd7Uqy9WrtaH+tj42jY+D5tvZu+Qm7VsxfvZ9tncPX5MK6R0eMpBsipn7pLYEQQMaY+AAaFC0/slttj5DGB63ztwrEafJ59bv9eI724X54URNw/VcO3bk29sVIQMQLVCptOyQqIioQH9zU31BwcErJ767e5TQ88JHzF21apaTKTT5azfInUngFdn0FmaLu0QFdE28eObeEacsp3adfdxav0EOXtKQpRAdQLVNQXoe/YbpSYzWELLb+US/OduubMAkOWm3T6395Y/9p094hfoviuQBhH4i/z0a2wmA5mZMbA2HDu49zPTpNA0Yu87o6ll5/kL98ZA/63qJHEUR9oAq16GozP2DhQtXLH4c8lVPEZK7SRLxzN/jf2g4e9Kpdb/8ceD0ca9Q/8WRwn/nSRIMmmQ8EonjPHTqyFs5t34+ue3SyTqzNUHoEEAiOgStchv2nwWrlo7wfnQvBI1goOQvKzflgT++kl5dR1IGfsC4xeOGeTWGkdCVXZ8+a9HOTKNJS08dGNrVovbi3LlbsugqSllTz8GJxwbR3j4RJ0e1wVHRZgCAltqKp3fxksSd1R4NPWjoxrXgdnEAVIUOQeWuQ+f958vl0d5PaCu9d1di/9nmy9/iDdqe+fa3HYdiYzw7BK7oIYQmf90GubWHvcnDmpVpx0E2Idcl2/Z+jUcv6T5qQGsLQKEkjdI0TbWMItoILnJGzH3KCxWyuhqK5qMIoDTSvExFGRYQJtbHxp40dR+6cpR/uK1ngON95cIjKkOV2gC4KItAcAyhEKShtKEQBoWgoOEfrS7XqsyAAQH002manOHVsYvY5/jmDaM5/Wf9MHWJKQaAsbOrdfCWm/k3C/IGeXoyEIQiZHFbYqvr4k5pXB09hn45pl2YrWc7pweqRYdUBpnaAIT4v1GEE4qqGpqtJGgrRtMwYa5b36kTb0vyv/6LwDQegAQAN3J0sQ7Ou1aQmJ87xMur4V5I2fltsQqelY8TiYRMWjVl9gQvNoFwuFweC8MQmgYIosg9j1amRfX+cnLfrhYcIE9L0MrieOarsg4drTAWOPgyyMaPXAChNOVaJV//UFsm8rS2nuGdXXxiNv48htN3+ncTlzVq6+hiE5yfUJiYlzus+XqqLmyPk1bFnjM4mzsP/eqTwDAbjwCnfM3SvTUGWX1raduGe9dpmiKrku+4gVprsfHjn838Pwr0HmyM8PvaW4VYcVvzAqh6lTI/P01dI62S5xcVZ0mqNZoWAyFFbivGtvuY2B2zY+uF7CqVUnH36Ia/rsf5jgkf3j0MJKdcP3f6ak5NvVpbJTeoDW4WfAs+qCsveqCqPpdbmpZVVK0ngIlNoMBIlFWalp6Xl0XRtRifQ7dI01wCsl3Du4VEerEshvh5d3NrfPHx3UaP8Ztk3BTytbS+Xv3g/MZ9mbF5/AizwtTE86cSHjScXV5lUOvdLPjORm/f4aRBKSu8GHt+0297jl08U1atfHg3mEfUpA8GfOSKEAggkMZ7+XC0/xTzg9d3bznVeC8553/cl3bqPsfJzalTXVzq9ukjln35/derlyxbteqXAwfSCsp1JGCwGI0xc2trFEqVouDMnor4i4hWVasgtCQXM7cMEIpM7pelpuXmZ5NUNSbg0HUVxQ+U1efzylIzCxW6h1fDEneIDOvuwzIf5Ovdw6Ox5s1zjR7l/7nFocRdv52823g9F37al3b8Aa+TeXHmrfMn4u83P9l6nasFX9x62rbRqKqUQVktvxf31ZDOI8fP3ZUtqdc9DpJKPYhZOKxdwKyvjkmJVo3WemfCp/2EQicnp/ahtnYOQpM+M9ZfLX42lqq+5O6x6O6hAvv2ntZ+roKA8QsO5MhofcHR2R/0sxTY23qFhfRtFyT2+WTBnmyZPvvostGBQidHoaODUPzhsv0pMtogvbFzen8vgUDAD/1k6ens2vvHW6SpeXSy8strJs0Yt+pQpuHJC0g+/mGPDgL7dv7Bvl6Rw+buT5PmH/siuvnswX0D2ot9P56/O0tmePvRWqmqjEkThwmF9o5COweheOzibZmP74bW5J2c/tOWRbH3Hz5efem9k2N6hwns/P2C/by7Dp2197Jcr8+NW/RxV7atp0XXqD5RnV3dHYR8Ls7vMX7DlVyqvuDiLxMi3fj2Hg627iEjpqza8vWMKLFAPGTO3qQimpDe2jNroE+DtsFjFp7IrM059eXY9s3aOo9YtDv58dVUJHz9+cyxy/7MeFLb0pRTY/uGC+z8fIP9fLoOmbEnRVJwcuGo/hYCBzuP0KC+QSGufqPn7MiUGmC01n/46qq6M3H+8kNHrpqaAJIEVv0Xr/zP7KiHHdi0JP7Tv2QOYr/l/T3+YXX9zUdrfVit16nVKqWO4nK5PA4PBYAi1FoSoAwmqVWp6kk2j8/jsV58taReo1JpAIvD43Feek+UVqtHAMZi48+9AMBvDPna4uwsHp//srO/iH8pWuvDe+Fx+XwOiyyLnT1nb6V1xJoVn3k0tdsofXHCsmXLYvhdVy1f9qEl81HMXCaXL+Q2xswFCMJsHolM6rUqlRowOTz+32prAABlP1dblQ5wuTw+h92oLY0y2KROpVIRLC6fz3+5tjBa6/NAzNpv23Fq244XbLXs+seMd+yKn4m4ijK4zYNteUa8vx9mhjE5oldawwtls9l/fwH/8OzvtJgUbWACisdGMIaBpLCGFyiF8zgskQijcaxpLOlLY+ZiTLbIhP1q2rL+ibZcEY/7FuSAQSMgbR3cPKS/x9kvf/xjoYIx7fNwRyEmzb/x1fqTyZzINQM6mOBtXgBockibh2XVffV6r09TL586vefb5aUaYOriHzV986bwQAdT1ntw/9DkkPcCprU4eNSM4FEz3sN7h4EcIRBYkkPeDM3fMd5cMLk3fsD3U8a2ryc0+VvKmpShrqSkBmcLbWyMX/bZsjGLNYeYfMHWZihVZXk1gfCtrI1xFHl/ZCwtrcWYAltb41fd55GYT9mXblrx/LGuVL2kXKEHPCsbE2bb0hOa/K3kTbIq45f5o++yxny6YK4IU6t1L4oASHN4Ai4T1KtUqueGeWUL2Bwmk8FAEIDoilYv3y038li2cKq/FQN5H2SUZ/6+4JObYOQny+ZbcnU6veFlIfJQBpPFRPR1KpVKTzFJQHB4AhFPiDU2UUmtsr5epaUYCEJRCJvLFfB0xV+t2lPGcVy+ZFaAdVvSE7bJ30belJ76elmGZvjgubO7iNJnzR7j6Ohga2NpZW3n4OTyCGcnB1sbz3HLt6VnX1n22QBXN7GDva2tnZOzi3sjni5iO7fIzst2nsqvMlA0QMzCNi7raFd067dfj5RrqPdBxjPfr0qpjRo4f3J3B8np1dM7m5laWNrY2Nja2libm5qIRKam5tZNf1pZWBgFj1l+LCfvxqZZg71dnOwdbex6TV57NkfVVHprik6tnBzh6GBja+vg7Dhg9Ya4WlHod0siXCuTf/npYGmb0hOavNXzJqhM+OHYXb1NWFSUBxsxDdq6/WTBlR+jO/LNBny29Xp2bW1NTU11nUKafXXf4C7ttbRBZ9l7w4GblXd2j+lubdp/1u/XSuoaqC1NvTLD1uSXzybNWbM1paohF7JdRk8aIS6UX9l0vYBs8zJe+/lEktKiQ/8BnkbAoC6pL3fuG739UnKptE5eeHv92IFG3PDPNxwulVfLS3Iv7JjYI5wHgMG1+4rdieVnlsyKZDJSD/61b+uh3LoG6fieH67ff+vE7O6zp35+8G7M14v7GjMAWxw9foRHZW3C9wn5JDQ55FXR5u/7K0Hn2q3LiA4PB00hZlYuTFNHNiZgoiKkcZITjbFsA4duXOod6l2VLlM3h3llGXMYT4R5FYfPXDtuZBf8RGzCwWtZjTPQEe+e/eyryNy42Mxauk3LWHDw0DWVfdfIkeENMtJ6g9NnPaNnDu/gKuIAnM/jigS4uRXX3FbAxHAjq7Ch07oGjLBQKxu9iuDh/Ucv6jUoonJfTMxPZ+7UN0nFMvPu0yesh62xienDyjni2b2vcw1SEHsqvYaGJoe8ErU5O3LKKWu3dgG2T/xKAvTJKBHaWpm8Wq6izZ27F/ADc1QEeLqD6BE8E2tgZANoPfIwygRi6f+JH8WuL4jPq2nLMubuflCmMncNCLJrFKVWlmFEZ1tYPj1cDSXBw3CZLNuQOoVlbU6VAQBAkIDr3WXFpKGTA8uOxf518HS6sqk6jhhoUtew+RGIhc8of0SkLbiUWw1NDnkViJIUXaH/ALpHe2P0eXXQRg8byg4vPXvk24wa3DJ4XmD7cXZPdocSj/wMaFAvKUBqyhCcwcAeDa7mOodbM+Q5FffytG1XxrJ0XaFPf9ArtElGROg2L7zdDG+zF3eP4eJ+Xj4RYkHT6mkG2gDYXcdEdxncMTdm919/7MmueVF9nOsUZo3X5pbfzdVCk0P+HlJedK+Ina51YT47v4FRp1VU11ZWV5WkpOwXSXP8WCjg2Pq4O7vbPJ4RQhkwrYbQaNRqtbY6/9bOtTHn44mhUZFDOvg+ehOYOfrx6+2qi4vr9G1VRkVxShHznlrMeigjx8rD3cnV9iVTZ9iuQWGBgZ1Fj1+YBtQ8Yt7kfuM7VB/568hvxxOV9DMBXhoxdfAVqB1rigpr24ie8BNa65ZAqlxdGcvIR8x/VmisJnbHrMt752GAItU2A8JCej6bhlV66ueV98/ucTYFqtzcoodhXgf3dHoyNB2OUgyNntLoqDYrY56ugmHk7Cr4/+ZX265TPuxbmf7VT0f/9AvxCe3OwADyTJHOQGlcq6O0bUVPaPJWx9dCKDLjPzsRgjQeMmvjysVj/TgVN39an47LyGeD8hKmfUcuXLrwA18jkgQAY3HZLDbe8pnhAl+dUXyFSipXA3t2W5XRy1wgMuf/v+eToGbdP/s4JCf91r79x31CnHroGBj6jJ5eGqPL5SpJlRo4sKHJIX/PCwavAUIAcHbDA2BaWDi5WAEe/uzDIHlsCxHf8nlhXp84gUGt1TLZKJuFtmkZ3xCIRciiz3vpyhJ/P7pHU82P6t7JosWZ9BqtBmdz24ye0OStDIKo1DqDRv90fF/kqb8wxwGTHQFAmU/v+dwG4/PeFppyvlqBMLyYWNtVEdRrdAa1nv4bUV6wkcYBhT9+TVh3nDa6vzxz1aaTW0ktxy+w19N6aiuEGrkOc2G2EZPDjrfWlZdjyzCUVlaly+qe/JlCSBolwaMQrigTRVvmKBqlKJR6UZjXpzI2SmCosYhnJOC2URkxtg1uKK+sSpXWPs/BNKBpiqIpJgkwCgEtpwbQFFBK6xQKheZxdUDUZdwEj+F9UZSH0TyMbqEniaFGIp6xkAdLcsjfglu4eJnZs0mKfNi7Q+rr69UFaSfqpferOAVFlZlSOw8Bj8dh4U/mSrVGU1aQrq6RyqmC4tJsmaMfn8vmvCCGSU3lbVKbZsYazm+rJTnDXOxp7ohSNEm1rFmrlRqNVl1VUFhcqXogk1xIvh9oYSXicrnCJrkIrUqadWnXH3+VW9hyXAI6u5rzGmvhiKn3f6dG4GXxpWjL4r9WcsegSRGxhrQVPWFJ3srZ0yHQEr2VVBSX2jQgja5+MGPWuPCRMYmlAd6ZVzYNj3IZsPDbK4VPZl5afm/GtA+C+q1PzHfwzrmycWTvj5ZsvlNJvKhFXvZAX+YXRHcSc9uujPbtLLC7d4rO3Ht6XB9ZfPn7mf1c3IMH7ky67dtefilmepiP28A5G+KLdU0J8mK//8+EsYnZJwrjt33w+aqvrhY+OoBFyPQxff47xIXLwZ7SszxHV+oVRHZ15QFYkkNeARP3oaRTaUrZ3fuVXUKtUcTMd/uOmO07Xlr9NgvatuP0th2v1h9Vnbr+rIIy9Y32sGjDMhq7DqKci1PLk7IqIsNsHhVNDNd+q3b2W7XzxRV9jyEr9gxZ8YKt/E5fTO/UUs/0jXEyDc99jKdlm2k0Qhu2MiK/hYMteerkE9ezDW/84DTISYzRMurCIrr5mbZtGX3mDbI20d87di3L0HpnoUHuzRMapKpDRM92ZgCaHPKKIG59JvQQolXnjt0sNlBvcNYDTZGV1/67V4da9Rnd26+t18kQ156f9DBhV8cdSSx6ozI+1pMmJTe+3V9vMO3zcZR/G9ITmvwtwHKeNHcMpsjZ8uuu3No3d1h1ya61KzC2aPyE0W6C90FGp09njeYoC3/7eUdOa0zG0ZTsXfclATjjJ411F7apHg1owbcBbt/72w12WQqEfnN1TVKj8Zv4XYiZm68d632R0a7nuh/ssuQU3Qor9pMajc+nawNM3f3b2rBBaPK3BcfGO8jmTR4QM/MMNnvvZGRbewZat8qRMVOP9m2zXwNW1yGQNg40OQQCTQ6BQKDJIRAINDkEAoEmh0Ag0OQQCASaHAKBQJNDINDkEAgEmhwCgUCTQyAQaHIIBAJNDoFAoMkhEAg0OQTy3gKDRvwzEAShaZpoBKrxt5DkixYIBjRNkyQJZXxFGWmaRhAEmvxtwOVyS0tLDxw4wGKxoBp/i0wmc3BwQNGWFUYmk1ldXX3y5Mn4+Hio0t9SV1fH4/FwHH/NkqnlmjKQlyKVSnNycmpqaqAUr4iDg4Obmxub/VTctNra2gcPHkilUqjPK2Jpaenu7i4UCqHJIRBIS2DHGwQCTQ6BQKDJIRAINDkEAoEmh0Ag0OQQCASaHAKBQJNDINDkEAgEmhwCgfxv8H8BAAD//9XkkbDdyESfAAAAAElFTkSuQmCC)"
      ]
    },
    {
      "cell_type": "code",
      "metadata": {
        "id": "wPRPYtF4C_ed",
        "outputId": "cdbac83d-43dd-4582-9a4a-3cc3b2a96a6b",
        "colab": {
          "base_uri": "https://localhost:8080/",
          "height": 50
        }
      },
      "source": [
        "confusion_matrix(y_test,y_pred)"
      ],
      "execution_count": 32,
      "outputs": [
        {
          "output_type": "execute_result",
          "data": {
            "text/plain": [
              "array([[98, 17],\n",
              "       [21, 14]])"
            ]
          },
          "metadata": {
            "tags": []
          },
          "execution_count": 32
        }
      ]
    },
    {
      "cell_type": "code",
      "metadata": {
        "id": "IuQSf8ooOL-O",
        "outputId": "53130053-7217-436a-d490-ca73638ecbe1",
        "colab": {
          "base_uri": "https://localhost:8080/",
          "height": 34
        }
      },
      "source": [
        "accuracy_score(y_test,y_pred)"
      ],
      "execution_count": 33,
      "outputs": [
        {
          "output_type": "execute_result",
          "data": {
            "text/plain": [
              "0.7466666666666667"
            ]
          },
          "metadata": {
            "tags": []
          },
          "execution_count": 33
        }
      ]
    },
    {
      "cell_type": "code",
      "metadata": {
        "id": "OVNlmRoMOL0H",
        "outputId": "dd6d4dca-0fb9-47b5-d307-02f5443a1b43",
        "colab": {
          "base_uri": "https://localhost:8080/",
          "height": 34
        }
      },
      "source": [
        "precision_score(y_test,y_pred)"
      ],
      "execution_count": 34,
      "outputs": [
        {
          "output_type": "execute_result",
          "data": {
            "text/plain": [
              "0.45161290322580644"
            ]
          },
          "metadata": {
            "tags": []
          },
          "execution_count": 34
        }
      ]
    },
    {
      "cell_type": "code",
      "metadata": {
        "id": "eb_zkSr7XJ_c",
        "outputId": "e45ebec3-e5ed-4068-d266-28c88e63da8c",
        "colab": {
          "base_uri": "https://localhost:8080/",
          "height": 34
        }
      },
      "source": [
        "recall_score(y_test,y_pred)"
      ],
      "execution_count": 35,
      "outputs": [
        {
          "output_type": "execute_result",
          "data": {
            "text/plain": [
              "0.4"
            ]
          },
          "metadata": {
            "tags": []
          },
          "execution_count": 35
        }
      ]
    },
    {
      "cell_type": "code",
      "metadata": {
        "id": "p3VRSupFXPdl"
      },
      "source": [
        "precision, recall, thresholds = precision_recall_curve(y_test,y_score[:,0])"
      ],
      "execution_count": 36,
      "outputs": []
    },
    {
      "cell_type": "code",
      "metadata": {
        "id": "o9fNOysqX9to",
        "outputId": "6d2b7b51-8d2e-4904-d7e4-e9e7820381e0",
        "colab": {
          "base_uri": "https://localhost:8080/",
          "height": 282
        }
      },
      "source": [
        "plt.plot(recall,precision)"
      ],
      "execution_count": 37,
      "outputs": [
        {
          "output_type": "execute_result",
          "data": {
            "text/plain": [
              "[<matplotlib.lines.Line2D at 0x7f3bdc61def0>]"
            ]
          },
          "metadata": {
            "tags": []
          },
          "execution_count": 37
        },
        {
          "output_type": "display_data",
          "data": {
            "image/png": "[encoded data removed]",
            "text/plain": [
              "<Figure size 432x288 with 1 Axes>"
            ]
          },
          "metadata": {
            "tags": [],
            "needs_background": "light"
          }
        }
      ]
    },
    {
      "cell_type": "markdown",
      "metadata": {
        "id": "SWLuAUinHbAO"
      },
      "source": [
        "# Clustering"
      ]
    },
    {
      "cell_type": "markdown",
      "metadata": {
        "id": "m2-3XJIxRo7K"
      },
      "source": [
        "## Data"
      ]
    },
    {
      "cell_type": "code",
      "metadata": {
        "id": "J8Y9rGsLHdLC"
      },
      "source": [
        "from sklearn.datasets import make_blobs"
      ],
      "execution_count": 38,
      "outputs": []
    },
    {
      "cell_type": "code",
      "metadata": {
        "id": "NCM_R-CJPX7S"
      },
      "source": [
        "X, y = make_blobs(n_samples=300, centers=3, n_features=2,random_state=6)"
      ],
      "execution_count": 39,
      "outputs": []
    },
    {
      "cell_type": "code",
      "metadata": {
        "id": "YCZDimk3RBqE",
        "outputId": "dbff89c9-bd0b-4b21-e891-e448bb523219",
        "colab": {
          "base_uri": "https://localhost:8080/",
          "height": 1000
        }
      },
      "source": [
        "X"
      ],
      "execution_count": 40,
      "outputs": [
        {
          "output_type": "execute_result",
          "data": {
            "text/plain": [
              "array([[  7.04597972,  -7.83353716],\n",
              "       [  7.97212762,  -3.75540854],\n",
              "       [  8.71445065,  -2.41730491],\n",
              "       [  6.10733913,  -7.3219719 ],\n",
              "       [  5.88127851,  -9.28986217],\n",
              "       [ -8.99419326,   2.30188689],\n",
              "       [  6.24560173,  -9.5966974 ],\n",
              "       [ -9.73917222,   1.73527849],\n",
              "       [ -5.71502839,   0.52948188],\n",
              "       [  7.30394653,  -3.73431476],\n",
              "       [  5.2686768 ,  -9.84671751],\n",
              "       [  8.37409773,  -2.43154653],\n",
              "       [  6.42985793,  -9.2022557 ],\n",
              "       [  6.62703535,  -9.54367514],\n",
              "       [ -5.99249654,   0.79798907],\n",
              "       [  6.8724751 ,  -3.57103087],\n",
              "       [ -7.60060951,   1.96481518],\n",
              "       [ -6.4483813 ,   1.43583503],\n",
              "       [ -7.29716546,   0.99936611],\n",
              "       [  7.27059007,  -4.84225716],\n",
              "       [ -8.12546701,   0.4745911 ],\n",
              "       [  8.69367788,  -4.73849827],\n",
              "       [ -8.26946765,   2.34851498],\n",
              "       [ -7.01428058,   2.55697574],\n",
              "       [  8.97289681,  -2.56630064],\n",
              "       [ -8.46875349,   3.29089848],\n",
              "       [  5.23706377,  -9.44138142],\n",
              "       [  5.94318188,  -3.50030621],\n",
              "       [ -8.99230493,   1.11860657],\n",
              "       [  7.53354406,  -2.09430052],\n",
              "       [  6.45681429,  -7.38853919],\n",
              "       [  6.68739126,  -9.77510228],\n",
              "       [-10.22033848,   1.05060001],\n",
              "       [ -8.41295167,   2.68609494],\n",
              "       [  8.17899091,  -9.91329235],\n",
              "       [  7.35293605,  -2.30789396],\n",
              "       [ -6.97299983,   2.71245104],\n",
              "       [ -6.90242536,   0.56186678],\n",
              "       [  7.6292206 , -10.09406967],\n",
              "       [  6.63442537, -10.85999683],\n",
              "       [  7.79758547,  -3.16623556],\n",
              "       [ -7.15015031,   2.28090094],\n",
              "       [  7.79711042,  -3.92889219],\n",
              "       [ -9.40543313,   2.52637284],\n",
              "       [  9.25778449,  -2.97569585],\n",
              "       [  7.40652853,  -8.81979862],\n",
              "       [  5.8363924 , -10.5543169 ],\n",
              "       [  7.81176791, -10.23929296],\n",
              "       [ -8.6835001 ,   2.45559701],\n",
              "       [  7.54321119,  -8.47822915],\n",
              "       [ -7.91831741,   0.77878083],\n",
              "       [ -9.37530736,   1.92951809],\n",
              "       [ -7.78584263,   1.88005225],\n",
              "       [  8.03085638,  -4.39583818],\n",
              "       [  7.6609014 , -11.51370851],\n",
              "       [  8.14408233,  -3.3085442 ],\n",
              "       [  7.31659598,  -2.56718154],\n",
              "       [  6.65326345,  -9.73431066],\n",
              "       [  4.32090019,  -8.72633808],\n",
              "       [  6.77992071, -10.5531434 ],\n",
              "       [  4.58555666,  -8.66515237],\n",
              "       [  6.32800361,  -9.98608209],\n",
              "       [  8.49142837,  -2.54974889],\n",
              "       [  7.82101326,  -3.45125088],\n",
              "       [  6.62012066,  -8.25343565],\n",
              "       [  9.42169269,  -2.6476988 ],\n",
              "       [  7.03731707,  -3.22169021],\n",
              "       [ -7.98335673,   2.46323384],\n",
              "       [ -7.72964952,   2.23274139],\n",
              "       [  7.61164065,  -7.47517166],\n",
              "       [  5.73005848,  -4.19481136],\n",
              "       [  7.97380499,  -4.04266122],\n",
              "       [  7.07705089,  -2.4047943 ],\n",
              "       [  9.32622042,  -1.61088754],\n",
              "       [  8.63983342,  -3.85382244],\n",
              "       [ -6.62104747,   0.45210635],\n",
              "       [  8.80840428,  -2.91850651],\n",
              "       [ -7.45463631,   0.75642587],\n",
              "       [ -6.77218164,   0.9121307 ],\n",
              "       [  6.38900574,  -9.10971708],\n",
              "       [  7.88781146,  -3.6579031 ],\n",
              "       [ -7.84188764,   2.72936251],\n",
              "       [  6.4072751 ,  -6.06733468],\n",
              "       [ -8.98049813,   1.00657417],\n",
              "       [ -6.75238457,   3.10807859],\n",
              "       [  4.73337156,  -7.73826004],\n",
              "       [  5.23139178, -10.03782342],\n",
              "       [  8.21597398,  -2.28672255],\n",
              "       [  7.67619643,  -2.82620437],\n",
              "       [ -7.96039625,   2.08931749],\n",
              "       [  5.5463742 ,  -9.62179575],\n",
              "       [ -7.79584398,   1.9771827 ],\n",
              "       [ -6.24814559,   1.65510276],\n",
              "       [ -8.28984217,   1.28794887],\n",
              "       [ -8.80188073,   2.04133893],\n",
              "       [  7.4816983 ,  -2.96403632],\n",
              "       [ -6.84379916,   1.26310119],\n",
              "       [  7.19366914,  -3.79414038],\n",
              "       [  7.69483605,  -2.63359393],\n",
              "       [ -7.65571824,   0.98631092],\n",
              "       [ -7.29877206,   1.10918483],\n",
              "       [ -8.23745921,   2.28618664],\n",
              "       [  8.54969613,  -2.39907057],\n",
              "       [  5.37042238,  -2.44715237],\n",
              "       [ -6.36330118,   3.33982525],\n",
              "       [  5.55580041,  -8.81122982],\n",
              "       [  5.58958536,  -9.21519984],\n",
              "       [ -9.92725158,   1.44595209],\n",
              "       [  6.67169651,  -8.01536485],\n",
              "       [ -7.65683437,   2.30652352],\n",
              "       [  4.66820773,  -9.56584419],\n",
              "       [  7.97164446,  -3.38236058],\n",
              "       [  8.0098908 ,  -4.99302449],\n",
              "       [  7.39129831, -10.10134159],\n",
              "       [  7.90875397,  -3.57999115],\n",
              "       [  7.5427112 ,  -3.50537947],\n",
              "       [  5.89179212, -10.09136992],\n",
              "       [ -6.76051654,   2.87870769],\n",
              "       [  6.00910033,  -6.45168777],\n",
              "       [  5.01060624, -11.05755379],\n",
              "       [  8.46927801,  -8.28992463],\n",
              "       [  7.01339147,  -8.83811493],\n",
              "       [ -9.64203659,   2.07758871],\n",
              "       [  8.28348842,  -4.11856092],\n",
              "       [ -5.60084922,   1.96265916],\n",
              "       [ -7.48209273,   2.08872751],\n",
              "       [  8.52336095,  -4.15665214],\n",
              "       [  8.13571983,  -3.78794403],\n",
              "       [  7.93333064,  -3.51553205],\n",
              "       [  6.91486383, -10.61159767],\n",
              "       [  8.27076637,  -3.73378068],\n",
              "       [  5.87335799, -10.07708725],\n",
              "       [  8.38014838,  -3.95228038],\n",
              "       [ -9.38603047,   2.75766749],\n",
              "       [ -8.52677523,   2.09092692],\n",
              "       [  5.68148165, -10.3201119 ],\n",
              "       [ -8.63180249,   1.65267902],\n",
              "       [  7.37275742,  -1.99746604],\n",
              "       [  6.05070046,  -9.59623642],\n",
              "       [ -7.45361677,   3.16728893],\n",
              "       [  6.8617832 ,  -3.47453105],\n",
              "       [  8.30413145,  -4.37505188],\n",
              "       [  9.07568367,  -4.21790533],\n",
              "       [  8.34548714,  -2.29009416],\n",
              "       [  6.39014964,  -1.78629974],\n",
              "       [  7.34192933, -10.28857977],\n",
              "       [  6.91177422,  -2.26911742],\n",
              "       [  8.68185687,  -4.53683537],\n",
              "       [  6.00278038,  -9.49607931],\n",
              "       [ -8.73196756,   0.98663135],\n",
              "       [  4.86722244,  -8.7264189 ],\n",
              "       [  6.36023688,  -9.06467209],\n",
              "       [  7.16177202,  -9.50226753],\n",
              "       [  6.25617932,  -7.7729349 ],\n",
              "       [  7.38575675,  -1.02379608],\n",
              "       [ -8.32035573,   2.20403703],\n",
              "       [ -8.1669039 ,   1.07944452],\n",
              "       [  5.89388174,  -8.02912522],\n",
              "       [ -7.05382775,   2.78058965],\n",
              "       [  8.98426675,  -4.87449712],\n",
              "       [ -9.30785247,   1.14017654],\n",
              "       [ -6.26341043,   0.359115  ],\n",
              "       [  7.53703673,  -3.95359973],\n",
              "       [ -9.35634094,   2.6132819 ],\n",
              "       [ -6.78686424,   2.57028084],\n",
              "       [ -8.11857883,   0.51566829],\n",
              "       [  7.41195895,  -3.50236312],\n",
              "       [  6.88999481,  -9.0161589 ],\n",
              "       [ -8.49301131,   1.5636178 ],\n",
              "       [  8.46909744,  -3.63024796],\n",
              "       [ -7.25578867,   1.70170439],\n",
              "       [  6.80498039,  -9.39092395],\n",
              "       [  6.4949418 ,  -8.7142457 ],\n",
              "       [  7.80996597,  -4.80944368],\n",
              "       [ 10.48848359,  -2.75858164],\n",
              "       [ -6.7088    ,   1.61546943],\n",
              "       [  7.66954557,  -4.84679599],\n",
              "       [ -8.57337488,   2.1200616 ],\n",
              "       [  9.35998856,  -3.95586361],\n",
              "       [  8.03349337,  -2.26578348],\n",
              "       [ -7.97789452,   1.67795458],\n",
              "       [  7.29573215,  -4.39392379],\n",
              "       [ -8.91454989,   1.67286592],\n",
              "       [  9.49649411,  -3.7902975 ],\n",
              "       [  6.33326644,  -9.10489433],\n",
              "       [ -8.38719126,   2.8272755 ],\n",
              "       [  7.93130076,  -1.32964354],\n",
              "       [  7.37971592,  -3.24787422],\n",
              "       [ -7.69026383,   2.05522405],\n",
              "       [  6.51206962,  -9.45935563],\n",
              "       [  6.92982714,  -8.34974461],\n",
              "       [  7.51850224,  -9.38408418],\n",
              "       [ -7.04107351,   1.27719373],\n",
              "       [  8.42575643,  -4.16536947],\n",
              "       [-10.67304928,   1.90017817],\n",
              "       [  7.32325911, -12.00064379],\n",
              "       [ -7.84839861,   0.9772738 ],\n",
              "       [  6.4484873 ,  -8.84116015],\n",
              "       [  7.0457617 , -10.38639468],\n",
              "       [ -7.34049155,   1.86925882],\n",
              "       [ -5.75527607,   1.91723459],\n",
              "       [  8.02830654, -10.1459245 ],\n",
              "       [  8.38554409,  -2.4205791 ],\n",
              "       [  8.30960397,  -3.66986646],\n",
              "       [  5.57778161,  -9.5535016 ],\n",
              "       [  6.38353575,  -8.19867787],\n",
              "       [  7.77303202,  -3.80896959],\n",
              "       [ -7.66527505,   0.91463279],\n",
              "       [ -7.56031412,   1.83668172],\n",
              "       [  6.30971173,  -8.83919511],\n",
              "       [  9.24223825,  -3.88003098],\n",
              "       [  5.45325912,  -7.2691953 ],\n",
              "       [  8.73147142,  -4.09997597],\n",
              "       [ -6.91334354,   2.0811661 ],\n",
              "       [ -7.75329204,  -0.05506806],\n",
              "       [ -6.45884843,   1.31172855],\n",
              "       [  9.22738455,  -2.26075055],\n",
              "       [  5.05353037, -10.23469226],\n",
              "       [  7.69173487,  -8.9798194 ],\n",
              "       [  6.95365493,  -8.43270335],\n",
              "       [ -8.20200945,   1.83708034],\n",
              "       [  9.76194535,  -2.66625075],\n",
              "       [  5.38027744,  -9.13448416],\n",
              "       [  6.57907974,  -8.36048621],\n",
              "       [  7.52132141,  -2.12266605],\n",
              "       [ -8.41063737,   1.07644791],\n",
              "       [  7.5694157 , -10.24439589],\n",
              "       [  6.88906539,  -3.19333716],\n",
              "       [  6.39169316,  -8.5195058 ],\n",
              "       [  5.28208162,  -8.33809649],\n",
              "       [ -7.73614764,   3.06849792],\n",
              "       [  4.60462412,  -7.84947584],\n",
              "       [ 10.19623726,  -3.67372676],\n",
              "       [  6.72717195,  -8.45267643],\n",
              "       [ -7.9911131 ,   1.32645884],\n",
              "       [ -6.89229086,   0.67098706],\n",
              "       [ -8.0279297 ,   2.32771411],\n",
              "       [ -9.56582829,   0.38560893],\n",
              "       [ -6.36533471,   1.27157053],\n",
              "       [  6.82069163,  -9.83039821],\n",
              "       [  7.35314292,  -8.82659738],\n",
              "       [  5.72487963,  -3.18654083],\n",
              "       [  8.17228867,  -4.3750694 ],\n",
              "       [ -9.38296124,   1.21280101],\n",
              "       [  6.16690839,  -7.78925344],\n",
              "       [ -7.64644687,   2.16671355],\n",
              "       [  5.74887009,  -7.38139178],\n",
              "       [  8.50050447,  -3.80829894],\n",
              "       [ -6.08619855,   2.41384522],\n",
              "       [ -7.82456324,   1.74072291],\n",
              "       [  6.89691985,  -7.48913744],\n",
              "       [  8.5144606 ,  -3.83277952],\n",
              "       [  6.58867319,  -7.58176431],\n",
              "       [  7.52232005,  -8.7126479 ],\n",
              "       [  5.79778126,  -8.88927032],\n",
              "       [  6.24991122,  -7.92592246],\n",
              "       [  5.51227782,  -7.92435649],\n",
              "       [  4.16696737,  -2.82656231],\n",
              "       [  7.16845314,  -8.35183527],\n",
              "       [  5.73072844,  -2.60895506],\n",
              "       [  6.26548055, -10.15902534],\n",
              "       [  6.65585163,  -2.46875116],\n",
              "       [  7.02921136,  -9.046576  ],\n",
              "       [  7.39169472,  -3.1266933 ],\n",
              "       [ -7.20887125,   3.32629632],\n",
              "       [  6.32878324,  -9.41078559],\n",
              "       [  8.21257359,  -5.05932348],\n",
              "       [  7.9683312 ,  -3.23125265],\n",
              "       [  6.63462731,  -2.5375913 ],\n",
              "       [ -8.08665913,   3.28014036],\n",
              "       [  6.90388676,  -4.43323125],\n",
              "       [ -8.39898277,   1.14827784],\n",
              "       [ -6.79576961,   2.58888787],\n",
              "       [  8.21073365,  -4.00374119],\n",
              "       [ -8.84860917,   1.78620101],\n",
              "       [  8.21201164,  -1.54781358],\n",
              "       [  7.77747738,  -2.48773841],\n",
              "       [  7.73046665,  -4.72901672],\n",
              "       [  8.17539065,  -8.49714409],\n",
              "       [  7.94799999,  -3.0901373 ],\n",
              "       [  7.23564265,  -9.81863271],\n",
              "       [  8.301286  ,  -4.21722653],\n",
              "       [  6.25098626,  -8.75516676],\n",
              "       [  8.08354782,  -9.48072447],\n",
              "       [ -8.71146807,   2.31622534],\n",
              "       [ -7.7848369 ,   1.55648377],\n",
              "       [  7.83762169,  -1.69756104],\n",
              "       [  6.67278617,  -3.88857707],\n",
              "       [  6.50072722,  -3.82403586],\n",
              "       [  6.94186871,  -8.60733591],\n",
              "       [ -6.91932338,   3.98449168],\n",
              "       [  9.10737773,  -9.26197541],\n",
              "       [  6.68657058,  -8.85049526],\n",
              "       [  7.16765837,  -8.97276964],\n",
              "       [  6.03910738,  -7.86448338],\n",
              "       [ -8.91638285,   1.69809048],\n",
              "       [ -6.68839033,   1.70116573],\n",
              "       [ -8.28269365,   2.62286092],\n",
              "       [  4.77040724,  -9.48145146],\n",
              "       [  7.63622841,  -7.26488995]])"
            ]
          },
          "metadata": {
            "tags": []
          },
          "execution_count": 40
        }
      ]
    },
    {
      "cell_type": "code",
      "metadata": {
        "id": "oceM0OLyPhEk",
        "outputId": "98e172bf-5f52-4b89-af39-11c09ebd9e6f",
        "colab": {
          "base_uri": "https://localhost:8080/",
          "height": 282
        }
      },
      "source": [
        "plt.scatter(X[:,0],X[:,1])"
      ],
      "execution_count": 41,
      "outputs": [
        {
          "output_type": "execute_result",
          "data": {
            "text/plain": [
              "<matplotlib.collections.PathCollection at 0x7f3bda704d68>"
            ]
          },
          "metadata": {
            "tags": []
          },
          "execution_count": 41
        },
        {
          "output_type": "display_data",
          "data": {
            "image/png": "[encoded data removed]",
            "text/plain": [
              "<Figure size 432x288 with 1 Axes>"
            ]
          },
          "metadata": {
            "tags": [],
            "needs_background": "light"
          }
        }
      ]
    },
    {
      "cell_type": "markdown",
      "metadata": {
        "id": "8-P7JzHHRlsX"
      },
      "source": [
        "Import"
      ]
    },
    {
      "cell_type": "code",
      "metadata": {
        "id": "h-zavYMRQ-VD"
      },
      "source": [
        "from sklearn.cluster import KMeans"
      ],
      "execution_count": 42,
      "outputs": []
    },
    {
      "cell_type": "markdown",
      "metadata": {
        "id": "pW0-RV8LR9Nb"
      },
      "source": [
        "Define"
      ]
    },
    {
      "cell_type": "code",
      "metadata": {
        "id": "fqdPNnhuRjSD"
      },
      "source": [
        "KMclust = KMeans(n_clusters=2)"
      ],
      "execution_count": 43,
      "outputs": []
    },
    {
      "cell_type": "markdown",
      "metadata": {
        "id": "XJHNijGeSI4B"
      },
      "source": [
        "Fit"
      ]
    },
    {
      "cell_type": "code",
      "metadata": {
        "id": "QgriVlobRex6",
        "outputId": "dcd4a656-1182-473a-96e5-bd697c3c6edb",
        "colab": {
          "base_uri": "https://localhost:8080/",
          "height": 67
        }
      },
      "source": [
        "KMclust.fit(X)"
      ],
      "execution_count": 44,
      "outputs": [
        {
          "output_type": "execute_result",
          "data": {
            "text/plain": [
              "KMeans(algorithm='auto', copy_x=True, init='k-means++', max_iter=300,\n",
              "       n_clusters=2, n_init=10, n_jobs=None, precompute_distances='auto',\n",
              "       random_state=None, tol=0.0001, verbose=0)"
            ]
          },
          "metadata": {
            "tags": []
          },
          "execution_count": 44
        }
      ]
    },
    {
      "cell_type": "markdown",
      "metadata": {
        "id": "hOxJ1ezwSh4W"
      },
      "source": [
        "Predict"
      ]
    },
    {
      "cell_type": "code",
      "metadata": {
        "id": "1HIZ165VSl1E"
      },
      "source": [
        "label = KMclust.predict(X)"
      ],
      "execution_count": 45,
      "outputs": []
    },
    {
      "cell_type": "code",
      "metadata": {
        "id": "DMili0RDShXH",
        "outputId": "6e4d711a-f8dc-4f24-d1f9-8f14b6339350",
        "colab": {
          "base_uri": "https://localhost:8080/",
          "height": 282
        }
      },
      "source": [
        "plt.scatter(X[:, 0], X[:, 1], c=label)"
      ],
      "execution_count": 46,
      "outputs": [
        {
          "output_type": "execute_result",
          "data": {
            "text/plain": [
              "<matplotlib.collections.PathCollection at 0x7f3bd9278fd0>"
            ]
          },
          "metadata": {
            "tags": []
          },
          "execution_count": 46
        },
        {
          "output_type": "display_data",
          "data": {
            "image/png": "[encoded data removed]",
            "text/plain": [
              "<Figure size 432x288 with 1 Axes>"
            ]
          },
          "metadata": {
            "tags": [],
            "needs_background": "light"
          }
        }
      ]
    },
    {
      "cell_type": "code",
      "metadata": {
        "id": "aggh223YTkNU"
      },
      "source": [
        ""
      ],
      "execution_count": 46,
      "outputs": []
    }
  ]
}